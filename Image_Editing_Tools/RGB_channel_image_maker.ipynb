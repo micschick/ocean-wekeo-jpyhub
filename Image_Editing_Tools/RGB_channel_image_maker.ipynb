{
 "cells": [
  {
   "cell_type": "markdown",
   "metadata": {
    "extensions": {
     "jupyter_dashboards": {
      "version": 1,
      "views": {
       "grid_default": {},
       "report_default": {}
      }
     }
    }
   },
   "source": [
    "# RGB channel image maker"
   ]
  },
  {
   "cell_type": "markdown",
   "metadata": {
    "extensions": {
     "jupyter_dashboards": {
      "version": 1,
      "views": {
       "grid_default": {},
       "report_default": {}
      }
     }
    }
   },
   "source": [
    "Code that allows you to create manipulate image RGB channels and see how they affect your plot, on-the-fly."
   ]
  },
  {
   "cell_type": "code",
   "execution_count": 1,
   "metadata": {
    "extensions": {
     "jupyter_dashboards": {
      "version": 1,
      "views": {
       "grid_default": {},
       "report_default": {}
      }
     }
    }
   },
   "outputs": [],
   "source": [
    "import EQ_tools as eq\n",
    "from ipywidgets import interactive, VBox, HBox, Layout, widgets, fixed\n",
    "import matplotlib.pyplot as plt\n",
    "import numpy as np\n",
    "from scipy import interpolate\n",
    "import os\n",
    "import sys\n",
    "import xarray as xr\n",
    "import matplotlib\n",
    "import cartopy.feature as cfeature\n",
    "import warnings\n",
    "warnings.filterwarnings('ignore')\n",
    "\n",
    "# specific tools (which can be found here ../Hub_tools/)\n",
    "sys.path.append(os.path.dirname(os.getcwd()) + '/Hub_Tools/')\n",
    "import image_tools as img"
   ]
  },
  {
   "cell_type": "code",
   "execution_count": 2,
   "metadata": {},
   "outputs": [],
   "source": [
    "# image reduction settings: resample the image every grid_factor points\n",
    "reduce_image = False\n",
    "grid_factor = 5\n",
    "\n",
    "# subset image: cut a relevant section out of an image. subset_extents [lon1,lon2,lat1,lat2] describes the section.\n",
    "subset_image = True\n",
    "subset_extents = [18.25, 20.75, 57.75, 59.25]\n",
    "\n",
    "# image truncation settings\n",
    "truncate_image = True\n",
    "min_percentile = 5\n",
    "max_percentile = 95\n",
    "\n",
    "# image normalisation settings\n",
    "unhitch = True\n",
    "\n",
    "# image histogram settings\n",
    "histogram_image = True\n",
    "histogram_channels = 512\n",
    "\n",
    "# image plotting settings: e.g. fontsize (fsz)\n",
    "fsz = 10"
   ]
  },
  {
   "cell_type": "code",
   "execution_count": 3,
   "metadata": {
    "extensions": {
     "jupyter_dashboards": {
      "version": 1,
      "views": {
       "grid_default": {},
       "report_default": {}
      }
     }
    }
   },
   "outputs": [],
   "source": [
    "vardir = '/home/jovyan/work/products/S3A_OL_1_EFR____20190809T092510_20190809T092810_20190810T145535_0179_048_036_1980_MAR_O_NT_002.SEN3'\n",
    "# read lat/lon\n",
    "ds1 = xr.open_dataset(os.path.join(vardir, 'geo_coordinates.nc'))\n",
    "raster_lat = ds1.latitude.data\n",
    "raster_lon = ds1.longitude.data\n",
    "ds1.close()\n",
    "\n",
    "if subset_image:\n",
    "    i1, i2, j1, j2 = img.subset_image(raster_lat, raster_lon, subset_extents)\n",
    "    raster_lat = raster_lat[i1:i2,j1:j2]\n",
    "    raster_lon = raster_lon[i1:i2,j1:j2]\n",
    "    subset_extents = [np.nanmin(raster_lon), np.nanmax(raster_lon),\\\n",
    "                      np.nanmin(raster_lat), np.nanmax(raster_lat)]\n",
    "\n",
    "# open data\n",
    "num_channels = 11\n",
    "\n",
    "if 'EFR' in vardir:\n",
    "    radiometry_type = 'Oa%s_radiance'\n",
    "else:\n",
    "    radiometry_type = 'Oa%s_reflectance'\n",
    "\n",
    "for rad_channel_number in range(1, num_channels+1):\n",
    "    rad_channel = radiometry_type % (str(rad_channel_number).zfill(2))\n",
    "    rad_file = os.path.join(vardir, rad_channel + '.nc') \n",
    "    rad_fid = xr.open_dataset(rad_file)\n",
    "    if subset_image:\n",
    "        exec(\"Ch%s = rad_fid.%s.data[i1:i2,j1:j2]\" % (str(rad_channel_number).zfill(2),rad_channel))\n",
    "    else:\n",
    "        exec(\"Ch%s = rad_fid.%s.data\" % (str(rad_channel_number).zfill(2),rad_channel))\n",
    "    rad_fid.close()\n",
    "\n",
    "if 'EFR' in vardir:\n",
    "    red = np.log10(1.0 + 0.01 * Ch01 + 0.09 * Ch02 + 0.35 * Ch03 + 0.04 * Ch04 + 0.01 * Ch05 + 0.59 * Ch06 + 0.85 * Ch07 + 0.12 * Ch08 + 0.07 * Ch09 + 0.04 * Ch10)\n",
    "    green = np.log10(1.0 + 0.26 * Ch03 + 0.21 * Ch04 + 0.50 * Ch05 + Ch06 + 0.38 * Ch07 + 0.04 * Ch08 + 0.03 * Ch09 + 0.02 * Ch10)\n",
    "    blue = np.log10(1.0 + 0.07 * Ch01 + 0.28 * Ch02 + 1.77 * Ch03 + 0.47 * Ch04 + 0.16 * Ch05)"
   ]
  },
  {
   "cell_type": "code",
   "execution_count": 4,
   "metadata": {},
   "outputs": [],
   "source": [
    "if reduce_image:\n",
    "    red = img.reduce_image(red, grid_factor=grid_factor)\n",
    "    green = img.reduce_image(green, grid_factor=grid_factor)\n",
    "    blue = img.reduce_image(blue, grid_factor=grid_factor)"
   ]
  },
  {
   "cell_type": "code",
   "execution_count": 5,
   "metadata": {
    "extensions": {
     "jupyter_dashboards": {
      "version": 1,
      "views": {
       "grid_default": {},
       "report_default": {}
      }
     }
    },
    "scrolled": false
   },
   "outputs": [
    {
     "data": {
      "application/vnd.jupyter.widget-view+json": {
       "model_id": "1e7ce194de914e96846096a3cca388ad",
       "version_major": 2,
       "version_minor": 0
      },
      "text/plain": [
       "HBox(children=(VBox(children=(Checkbox(value=False, description='truncate data'), FloatRangeSlider(value=(5.0,…"
      ]
     },
     "metadata": {},
     "output_type": "display_data"
    },
    {
     "data": {
      "application/vnd.jupyter.widget-view+json": {
       "model_id": "d4b84ac6e93b454a98a72b4c82e87d1b",
       "version_major": 2,
       "version_minor": 0
      },
      "text/plain": [
       "Layout(align_items='center', display='flex', flex_flow='row', justify_content='space-between')"
      ]
     },
     "metadata": {},
     "output_type": "display_data"
    }
   ],
   "source": [
    "%matplotlib inline\n",
    "\n",
    "# build the widgets\n",
    "all_widgets = eq.make_RGB_widgets(truncate_image, min_percentile, max_percentile,\\\n",
    "        unhitch, histogram_image, histogram_channels)\n",
    "\n",
    "# build the plot command\n",
    "runCMD = eq.build_RGB_plot_command(all_widgets)\n",
    "\n",
    "# run the plot command\n",
    "exec(runCMD)\n",
    "box_layout = Layout(display='flex', flex_flow='row', justify_content='space-between', align_items='center')\n",
    "\n",
    "# display the plot\n",
    "\n",
    "widget_box = VBox([iplot.children[0],iplot.children[1], \\\n",
    "                   iplot.children[2], iplot.children[3], \\\n",
    "                   iplot.children[4], iplot.children[5], \\\n",
    "                   iplot.children[6], iplot.children[7]])\n",
    "plot_box = VBox([iplot.children[-1]])\n",
    "display(HBox([widget_box, plot_box]),box_layout)"
   ]
  }
 ],
 "metadata": {
  "extensions": {
   "jupyter_dashboards": {
    "activeView": "grid_default",
    "version": 1,
    "views": {
     "grid_default": {
      "cellMargin": 10,
      "defaultCellHeight": 20,
      "maxColumns": 12,
      "name": "grid",
      "type": "grid"
     },
     "report_default": {
      "name": "report",
      "type": "report"
     }
    }
   }
  },
  "kernelspec": {
   "display_name": "Python 3",
   "language": "python",
   "name": "python3"
  },
  "language_info": {
   "codemirror_mode": {
    "name": "ipython",
    "version": 3
   },
   "file_extension": ".py",
   "mimetype": "text/x-python",
   "name": "python",
   "nbconvert_exporter": "python",
   "pygments_lexer": "ipython3",
   "version": "3.6.7"
  }
 },
 "nbformat": 4,
 "nbformat_minor": 2
}
