{
 "cells": [
  {
   "cell_type": "markdown",
   "metadata": {
    "extensions": {
     "jupyter_dashboards": {
      "version": 1,
      "views": {
       "grid_default": {},
       "report_default": {}
      }
     }
    }
   },
   "source": [
    "# Single channel colourmap maker"
   ]
  },
  {
   "cell_type": "markdown",
   "metadata": {
    "extensions": {
     "jupyter_dashboards": {
      "version": 1,
      "views": {
       "grid_default": {},
       "report_default": {}
      }
     }
    }
   },
   "source": [
    "Code that allows you to create bespoke colourmaps, edit them and see how they affect your plot, on-the-fly."
   ]
  },
  {
   "cell_type": "code",
   "execution_count": null,
   "metadata": {
    "extensions": {
     "jupyter_dashboards": {
      "version": 1,
      "views": {
       "grid_default": {},
       "report_default": {}
      }
     }
    }
   },
   "outputs": [],
   "source": [
    "import EQ_tools as eq\n",
    "from ipywidgets import interactive, VBox, Layout, widgets, fixed\n",
    "import matplotlib.pyplot as plt\n",
    "import numpy as np\n",
    "from scipy import interpolate\n",
    "import os\n",
    "import xarray as xr\n",
    "import matplotlib"
   ]
  },
  {
   "cell_type": "code",
   "execution_count": null,
   "metadata": {
    "extensions": {
     "jupyter_dashboards": {
      "version": 1,
      "views": {
       "grid_default": {},
       "report_default": {}
      }
     }
    }
   },
   "outputs": [],
   "source": [
    "log_var = False\n",
    "# BENGUELA\n",
    "bbox = [5, 20, -35, -15]\n",
    "# BALTIC\n",
    "#bbox = [7, 33, 52, 66]\n",
    "reduce = 5\n",
    "example = 'CHL'\n",
    "\n",
    "if example == 'CHL':\n",
    "    # CHL EXAMPLE 1571816820696\n",
    "    varfile = '/home/jovyan/work/products/dataset-oc-glo-chl-multicci-l4-chl4kmmonthly-rep-v02_image_demo.nc'\n",
    "    varname = 'CHL'\n",
    "    lonname = 'longitude'\n",
    "    latname = 'latitude'\n",
    "    log_var = True\n",
    "    # Viridis\n",
    "    nchan = 12\n",
    "    channel_red = [] ; channel_green = [] ; channel_blue = []\n",
    "    for ii in np.arange(nchan):\n",
    "        channel_red.append(plt.cm.viridis(ii/(nchan-1))[0])\n",
    "        channel_green.append(plt.cm.viridis(ii/(nchan-1))[1])\n",
    "        channel_blue.append(plt.cm.viridis(ii/(nchan-1))[2])\n",
    "        \n",
    "elif example == 'SST':\n",
    "    # SST EXAMPLE 1571816836353\n",
    "    varfile = '/home/jovyan/work/products/METOFFICE-GLO-SST-L4-NRT-OBS-SST-V2_image_demo.nc'\n",
    "    varname = 'analysed_sst'\n",
    "    lonname = 'lon'\n",
    "    latname = 'lat'\n",
    "    # Medspiration\n",
    "    channel_red=[1,1,0,0,0,0,0,0.5,1,1,1,0.25]\n",
    "    channel_green=[1,0.4,0,0.5,1,0.7,0.42,0.7,1,0.5,0,0]\n",
    "    channel_blue=[1,1,0.2,0.6,1,0.5,0,0,0,0,0,0]\n"
   ]
  },
  {
   "cell_type": "code",
   "execution_count": null,
   "metadata": {
    "extensions": {
     "jupyter_dashboards": {
      "version": 1,
      "views": {
       "grid_default": {},
       "report_default": {}
      }
     }
    }
   },
   "outputs": [],
   "source": [
    "# open data\n",
    "ds1 = xr.open_dataset(varfile)\n",
    "LAT = ds1.variables[latname].values\n",
    "LON = ds1.variables[lonname].values\n",
    "VAR = ds1.variables[varname].values\n",
    "ds1.close()\n",
    "\n",
    "# process the data a bit (subset and get max/min)\n",
    "VAR, LON, LAT, vlimits = eq.process_SC_data(VAR, LON, LAT, bbox, varname, reduce, log_var=log_var)"
   ]
  },
  {
   "cell_type": "code",
   "execution_count": null,
   "metadata": {
    "extensions": {
     "jupyter_dashboards": {
      "version": 1,
      "views": {
       "grid_default": {},
       "report_default": {}
      }
     }
    },
    "scrolled": false
   },
   "outputs": [],
   "source": [
    "%matplotlib inline\n",
    "\n",
    "nchan = len(channel_red)\n",
    "print('nChannels: '+str(nchan))\n",
    "\n",
    "# build the widgets\n",
    "red_widgets, green_widgets, blue_widgets = eq.make_SC_widgets(channel_red, channel_green, channel_blue)\n",
    "\n",
    "# build the plot command\n",
    "runCMD = eq.build_SC_plot_command(vlimits,\\\n",
    "                               red_widgets, green_widgets, blue_widgets)\n",
    "# run the plot command\n",
    "\n",
    "exec(runCMD)\n",
    "box_layout = Layout(display='flex', flex_flow='row', justify_content='space-between', align_items='center')\n",
    "\n",
    "# display the plot\n",
    "for ii in range(0, nchan):\n",
    "    display(VBox([iplot.children[ii], iplot.children[ii+nchan],iplot.children[ii+nchan*2]],\\\n",
    "                  layout=box_layout))\n",
    "display(iplot.children[-1])"
   ]
  },
  {
   "cell_type": "code",
   "execution_count": null,
   "metadata": {
    "extensions": {
     "jupyter_dashboards": {
      "version": 1,
      "views": {
       "grid_default": {},
       "report_default": {}
      }
     }
    }
   },
   "outputs": [],
   "source": [
    "# interpolate colour map onto required range / steps\n",
    "I_am_done = False\n",
    "\n",
    "if I_am_done:\n",
    "    reds = interactive_plot.result[2]\n",
    "    greens = interactive_plot.result[3]\n",
    "    blues = interactive_plot.result[4]\n",
    "    tscale_orig = np.linspace(vmin, vmax, len(reds))\n",
    "    tscale_new = np.linspace(vmin, vmax, vsteps)\n",
    "\n",
    "    interp_redf = interpolate.interp1d(tscale_orig, reds)\n",
    "    interp_greenf = interpolate.interp1d(tscale_orig, greens)\n",
    "    interp_bluef = interpolate.interp1d(tscale_orig, blues)\n",
    "\n",
    "    interp_red = np.array(interp_redf(tscale_new)*255.).astype(int)\n",
    "    interp_green = np.array(interp_greenf(tscale_new)*255.).astype(int)\n",
    "    interp_blue = np.array(interp_bluef(tscale_new)*255.).astype(int)"
   ]
  },
  {
   "cell_type": "code",
   "execution_count": null,
   "metadata": {
    "extensions": {
     "jupyter_dashboards": {
      "version": 1,
      "views": {
       "grid_default": {},
       "report_default": {}
      }
     }
    }
   },
   "outputs": [],
   "source": [
    "if I_am_done:\n",
    "    # write to file\n",
    "    my_file = 'Test_colbar.grass'\n",
    "    if os.path.exists(my_file):\n",
    "        os.remove(my_file)\n",
    "\n",
    "    with open(my_file, 'w') as the_file:\n",
    "        for ii in range(0,len(interp_red)):\n",
    "            the_file.write(str(tscale_new[ii]) + ' ' + \\\n",
    "                           str(interp_red[ii]) + ' ' + \\\n",
    "                           str(interp_green[ii]) + ' ' + \\\n",
    "                           str(interp_blue[ii]))\n",
    "            if ii != len(interp_red)-1:\n",
    "                the_file.write('\\n')"
   ]
  }
 ],
 "metadata": {
  "extensions": {
   "jupyter_dashboards": {
    "activeView": "grid_default",
    "version": 1,
    "views": {
     "grid_default": {
      "cellMargin": 10,
      "defaultCellHeight": 20,
      "maxColumns": 12,
      "name": "grid",
      "type": "grid"
     },
     "report_default": {
      "name": "report",
      "type": "report"
     }
    }
   }
  },
  "kernelspec": {
   "display_name": "Python 3",
   "language": "python",
   "name": "python3"
  },
  "language_info": {
   "codemirror_mode": {
    "name": "ipython",
    "version": 3
   },
   "file_extension": ".py",
   "mimetype": "text/x-python",
   "name": "python",
   "nbconvert_exporter": "python",
   "pygments_lexer": "ipython3",
   "version": "3.6.7"
  }
 },
 "nbformat": 4,
 "nbformat_minor": 2
}
