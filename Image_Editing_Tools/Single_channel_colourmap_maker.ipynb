{
 "cells": [
  {
   "cell_type": "markdown",
   "metadata": {
    "extensions": {
     "jupyter_dashboards": {
      "version": 1,
      "views": {
       "grid_default": {},
       "report_default": {}
      }
     }
    }
   },
   "source": [
    "# Single channel colourmap maker"
   ]
  },
  {
   "cell_type": "markdown",
   "metadata": {
    "extensions": {
     "jupyter_dashboards": {
      "version": 1,
      "views": {
       "grid_default": {},
       "report_default": {}
      }
     }
    }
   },
   "source": [
    "Code that allows you to create bespoke colourmaps, edit them and see how they affect your plot, on-the-fly."
   ]
  },
  {
   "cell_type": "code",
   "execution_count": 1,
   "metadata": {
    "extensions": {
     "jupyter_dashboards": {
      "version": 1,
      "views": {
       "grid_default": {},
       "report_default": {}
      }
     }
    }
   },
   "outputs": [],
   "source": [
    "import EQ_tools as eq\n",
    "from ipywidgets import interactive, VBox, Layout, widgets, fixed\n",
    "import matplotlib.pyplot as plt\n",
    "import numpy as np\n",
    "from scipy import interpolate\n",
    "import os\n",
    "import xarray as xr\n",
    "import matplotlib"
   ]
  },
  {
   "cell_type": "code",
   "execution_count": 2,
   "metadata": {
    "extensions": {
     "jupyter_dashboards": {
      "version": 1,
      "views": {
       "grid_default": {},
       "report_default": {}
      }
     }
    }
   },
   "outputs": [],
   "source": [
    "log_var = False\n",
    "bbox = [5, 20, -35, -15]\n",
    "reduce = 5\n",
    "example = 'CHL'\n",
    "if example == 'CHL':\n",
    "    # CHL EXAMPLE\n",
    "    varfile = '/home/jovyan/work/products/dataset-oc-glo-chl-multi_cci-l4-chl_4km_monthly-rep-v02_1568876553803.nc'\n",
    "    varname = 'CHL'\n",
    "    lonname = 'longitude'\n",
    "    latname = 'latitude'\n",
    "    log_var = True\n",
    "    # Viridis\n",
    "    nchan = 12\n",
    "    channel_red = [] ; channel_green = [] ; channel_blue = []\n",
    "    for ii in np.arange(nchan):\n",
    "        channel_red.append(plt.cm.viridis(ii/(nchan-1))[0])\n",
    "        channel_green.append(plt.cm.viridis(ii/(nchan-1))[1])\n",
    "        channel_blue.append(plt.cm.viridis(ii/(nchan-1))[2])\n",
    "elif example == 'SST':\n",
    "    # SST EXAMPLE\n",
    "    varfile = '/home/jovyan/work/products/METOFFICE-GLO-SST-L4-NRT-OBS-SST-V2_1568885414480.nc'\n",
    "    varname = 'analysed_sst'\n",
    "    lonname = 'lon'\n",
    "    latname = 'lat'\n",
    "    # Medspiration\n",
    "    channel_red=[1,1,0,0,0,0,0,0.5,1,1,1,0.25]\n",
    "    channel_green=[1,0.4,0,0.5,1,0.7,0.42,0.7,1,0.5,0,0]\n",
    "    channel_blue=[1,1,0.2,0.6,1,0.5,0,0,0,0,0,0]\n"
   ]
  },
  {
   "cell_type": "code",
   "execution_count": 3,
   "metadata": {
    "extensions": {
     "jupyter_dashboards": {
      "version": 1,
      "views": {
       "grid_default": {},
       "report_default": {}
      }
     }
    }
   },
   "outputs": [],
   "source": [
    "# open data\n",
    "ds1 = xr.open_dataset(varfile)\n",
    "LAT = ds1.variables[latname].values\n",
    "LON = ds1.variables[lonname].values\n",
    "VAR = ds1.variables[varname].values\n",
    "ds1.close()\n",
    "\n",
    "# process the data a bit (subset and get max/min)\n",
    "VAR, LON, LAT, vlimits = eq.process_SC_data(VAR, LON, LAT, bbox, varname, reduce, log_var=log_var)"
   ]
  },
  {
   "cell_type": "code",
   "execution_count": 4,
   "metadata": {
    "extensions": {
     "jupyter_dashboards": {
      "version": 1,
      "views": {
       "grid_default": {},
       "report_default": {}
      }
     }
    },
    "scrolled": false
   },
   "outputs": [
    {
     "name": "stdout",
     "output_type": "stream",
     "text": [
      "nChannels: 12\n",
      "iplot = interactive(eq.plot_SC_eq, varname=fixed(varname), var=fixed(VAR), lon=fixed(LON), lat=fixed(LAT), vmin=fixed(-1.1941891525344954), vmax=fixed(0.8578346848299605), log_var=fixed(log_var), red0=widgets.FloatSlider(value=0.267004, min=0.0, max=1.0, step=0.025), red1=widgets.FloatSlider(value=0.283072, min=0.0, max=1.0, step=0.025), red2=widgets.FloatSlider(value=0.262138, min=0.0, max=1.0, step=0.025), red3=widgets.FloatSlider(value=0.220057, min=0.0, max=1.0, step=0.025), red4=widgets.FloatSlider(value=0.177423, min=0.0, max=1.0, step=0.025), red5=widgets.FloatSlider(value=0.143343, min=0.0, max=1.0, step=0.025), red6=widgets.FloatSlider(value=0.119512, min=0.0, max=1.0, step=0.025), red7=widgets.FloatSlider(value=0.166383, min=0.0, max=1.0, step=0.025), red8=widgets.FloatSlider(value=0.319809, min=0.0, max=1.0, step=0.025), red9=widgets.FloatSlider(value=0.525776, min=0.0, max=1.0, step=0.025), red10=widgets.FloatSlider(value=0.762373, min=0.0, max=1.0, step=0.025), red11=widgets.FloatSlider(value=0.993248, min=0.0, max=1.0, step=0.025), green0=widgets.FloatSlider(value=0.004874, min=0.0, max=1.0, step=0.025), green1=widgets.FloatSlider(value=0.130895, min=0.0, max=1.0, step=0.025), green2=widgets.FloatSlider(value=0.242286, min=0.0, max=1.0, step=0.025), green3=widgets.FloatSlider(value=0.343307, min=0.0, max=1.0, step=0.025), green4=widgets.FloatSlider(value=0.437527, min=0.0, max=1.0, step=0.025), green5=widgets.FloatSlider(value=0.522773, min=0.0, max=1.0, step=0.025), green6=widgets.FloatSlider(value=0.607464, min=0.0, max=1.0, step=0.025), green7=widgets.FloatSlider(value=0.690856, min=0.0, max=1.0, step=0.025), green8=widgets.FloatSlider(value=0.770914, min=0.0, max=1.0, step=0.025), green9=widgets.FloatSlider(value=0.833491, min=0.0, max=1.0, step=0.025), green10=widgets.FloatSlider(value=0.876424, min=0.0, max=1.0, step=0.025), green11=widgets.FloatSlider(value=0.906157, min=0.0, max=1.0, step=0.025), blue0=widgets.FloatSlider(value=0.329415, min=0.0, max=1.0, step=0.025), blue1=widgets.FloatSlider(value=0.449241, min=0.0, max=1.0, step=0.025), blue2=widgets.FloatSlider(value=0.520837, min=0.0, max=1.0, step=0.025), blue3=widgets.FloatSlider(value=0.549413, min=0.0, max=1.0, step=0.025), blue4=widgets.FloatSlider(value=0.557565, min=0.0, max=1.0, step=0.025), blue5=widgets.FloatSlider(value=0.556295, min=0.0, max=1.0, step=0.025), blue6=widgets.FloatSlider(value=0.540218, min=0.0, max=1.0, step=0.025), blue7=widgets.FloatSlider(value=0.496502, min=0.0, max=1.0, step=0.025), blue8=widgets.FloatSlider(value=0.411152, min=0.0, max=1.0, step=0.025), blue9=widgets.FloatSlider(value=0.288127, min=0.0, max=1.0, step=0.025), blue10=widgets.FloatSlider(value=0.137064, min=0.0, max=1.0, step=0.025), blue11=widgets.FloatSlider(value=0.143936, min=0.0, max=1.0, step=0.025))\n"
     ]
    },
    {
     "ename": "NameError",
     "evalue": "name 'adsf' is not defined",
     "output_type": "error",
     "traceback": [
      "\u001b[0;31m---------------------------------------------------------------------------\u001b[0m",
      "\u001b[0;31mNameError\u001b[0m                                 Traceback (most recent call last)",
      "\u001b[0;32m<ipython-input-4-af9d0d406932>\u001b[0m in \u001b[0;36m<module>\u001b[0;34m\u001b[0m\n\u001b[1;32m     12\u001b[0m \u001b[0;31m# run the plot command\u001b[0m\u001b[0;34m\u001b[0m\u001b[0;34m\u001b[0m\u001b[0;34m\u001b[0m\u001b[0m\n\u001b[1;32m     13\u001b[0m \u001b[0mprint\u001b[0m\u001b[0;34m(\u001b[0m\u001b[0mrunCMD\u001b[0m\u001b[0;34m)\u001b[0m\u001b[0;34m\u001b[0m\u001b[0;34m\u001b[0m\u001b[0m\n\u001b[0;32m---> 14\u001b[0;31m \u001b[0madsf\u001b[0m\u001b[0;34m\u001b[0m\u001b[0;34m\u001b[0m\u001b[0m\n\u001b[0m\u001b[1;32m     15\u001b[0m \u001b[0mexec\u001b[0m\u001b[0;34m(\u001b[0m\u001b[0mrunCMD\u001b[0m\u001b[0;34m)\u001b[0m\u001b[0;34m\u001b[0m\u001b[0;34m\u001b[0m\u001b[0m\n\u001b[1;32m     16\u001b[0m \u001b[0mbox_layout\u001b[0m \u001b[0;34m=\u001b[0m \u001b[0mLayout\u001b[0m\u001b[0;34m(\u001b[0m\u001b[0mdisplay\u001b[0m\u001b[0;34m=\u001b[0m\u001b[0;34m'flex'\u001b[0m\u001b[0;34m,\u001b[0m \u001b[0mflex_flow\u001b[0m\u001b[0;34m=\u001b[0m\u001b[0;34m'row'\u001b[0m\u001b[0;34m,\u001b[0m \u001b[0mjustify_content\u001b[0m\u001b[0;34m=\u001b[0m\u001b[0;34m'space-between'\u001b[0m\u001b[0;34m,\u001b[0m \u001b[0malign_items\u001b[0m\u001b[0;34m=\u001b[0m\u001b[0;34m'center'\u001b[0m\u001b[0;34m)\u001b[0m\u001b[0;34m\u001b[0m\u001b[0;34m\u001b[0m\u001b[0m\n",
      "\u001b[0;31mNameError\u001b[0m: name 'adsf' is not defined"
     ]
    }
   ],
   "source": [
    "%matplotlib inline\n",
    "\n",
    "nchan = len(channel_red)\n",
    "print('nChannels: '+str(nchan))\n",
    "\n",
    "# build the widgets\n",
    "red_widgets, green_widgets, blue_widgets = eq.make_SC_widgets(channel_red, channel_green, channel_blue)\n",
    "\n",
    "# build the plot command\n",
    "runCMD = eq.build_SC_plot_command(vlimits,\\\n",
    "                               red_widgets, green_widgets, blue_widgets)\n",
    "# run the plot command\n",
    "\n",
    "exec(runCMD)\n",
    "box_layout = Layout(display='flex', flex_flow='row', justify_content='space-between', align_items='center')\n",
    "\n",
    "# display the plot\n",
    "for ii in range(0, nchan):\n",
    "    display(VBox([iplot.children[ii], iplot.children[ii+nchan],iplot.children[ii+nchan*2]],\\\n",
    "                  layout=box_layout))\n",
    "display(iplot.children[-1])"
   ]
  },
  {
   "cell_type": "code",
   "execution_count": null,
   "metadata": {
    "extensions": {
     "jupyter_dashboards": {
      "version": 1,
      "views": {
       "grid_default": {},
       "report_default": {}
      }
     }
    }
   },
   "outputs": [],
   "source": [
    "# interpolate colour map onto required range / steps\n",
    "I_am_done = False\n",
    "\n",
    "if I_am_done:\n",
    "    reds = interactive_plot.result[2]\n",
    "    greens = interactive_plot.result[3]\n",
    "    blues = interactive_plot.result[4]\n",
    "    tscale_orig = np.linspace(vmin, vmax, len(reds))\n",
    "    tscale_new = np.linspace(vmin, vmax, vsteps)\n",
    "\n",
    "    interp_redf = interpolate.interp1d(tscale_orig, reds)\n",
    "    interp_greenf = interpolate.interp1d(tscale_orig, greens)\n",
    "    interp_bluef = interpolate.interp1d(tscale_orig, blues)\n",
    "\n",
    "    interp_red = np.array(interp_redf(tscale_new)*255.).astype(int)\n",
    "    interp_green = np.array(interp_greenf(tscale_new)*255.).astype(int)\n",
    "    interp_blue = np.array(interp_bluef(tscale_new)*255.).astype(int)"
   ]
  },
  {
   "cell_type": "code",
   "execution_count": null,
   "metadata": {
    "extensions": {
     "jupyter_dashboards": {
      "version": 1,
      "views": {
       "grid_default": {},
       "report_default": {}
      }
     }
    }
   },
   "outputs": [],
   "source": [
    "if I_am_done:\n",
    "    # write to file\n",
    "    my_file = 'Test_colbar.grass'\n",
    "    if os.path.exists(my_file):\n",
    "        os.remove(my_file)\n",
    "\n",
    "    with open(my_file, 'w') as the_file:\n",
    "        for ii in range(0,len(interp_red)):\n",
    "            the_file.write(str(tscale_new[ii]) + ' ' + \\\n",
    "                           str(interp_red[ii]) + ' ' + \\\n",
    "                           str(interp_green[ii]) + ' ' + \\\n",
    "                           str(interp_blue[ii]))\n",
    "            if ii != len(interp_red)-1:\n",
    "                the_file.write('\\n')"
   ]
  }
 ],
 "metadata": {
  "extensions": {
   "jupyter_dashboards": {
    "activeView": "grid_default",
    "version": 1,
    "views": {
     "grid_default": {
      "cellMargin": 10,
      "defaultCellHeight": 20,
      "maxColumns": 12,
      "name": "grid",
      "type": "grid"
     },
     "report_default": {
      "name": "report",
      "type": "report"
     }
    }
   }
  },
  "kernelspec": {
   "display_name": "Python 3",
   "language": "python",
   "name": "python3"
  },
  "language_info": {
   "codemirror_mode": {
    "name": "ipython",
    "version": 3
   },
   "file_extension": ".py",
   "mimetype": "text/x-python",
   "name": "python",
   "nbconvert_exporter": "python",
   "pygments_lexer": "ipython3",
   "version": "3.6.7"
  }
 },
 "nbformat": 4,
 "nbformat_minor": 2
}
