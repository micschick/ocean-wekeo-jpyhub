{
 "cells": [
  {
   "cell_type": "markdown",
   "metadata": {},
   "source": [
    "# Python on-the-fly colormap generator"
   ]
  },
  {
   "cell_type": "markdown",
   "metadata": {},
   "source": [
    "Useful bit of code that allows you to see how python plots look on-the-fly."
   ]
  },
  {
   "cell_type": "code",
   "execution_count": 1,
   "metadata": {},
   "outputs": [],
   "source": [
    "import Make_EQ as eq\n",
    "from ipywidgets import interactive, VBox, Layout, widgets\n",
    "import matplotlib.pyplot as plt\n",
    "import numpy as np\n",
    "from scipy import interpolate\n",
    "import os"
   ]
  },
  {
   "cell_type": "code",
   "execution_count": 2,
   "metadata": {},
   "outputs": [],
   "source": [
    "# define output interpolation specifics\n",
    "VMIN=272.15\n",
    "VMAX=308.16\n",
    "VSTEPS=255"
   ]
  },
  {
   "cell_type": "code",
   "execution_count": 3,
   "metadata": {
    "scrolled": false
   },
   "outputs": [
    {
     "name": "stdout",
     "output_type": "stream",
     "text": [
      "nChannels: 16\n"
     ]
    },
    {
     "data": {
      "application/vnd.jupyter.widget-view+json": {
       "model_id": "cc932005041449b6ab0cfe96285a1d27",
       "version_major": 2,
       "version_minor": 0
      },
      "text/plain": [
       "VBox(children=(FloatSlider(value=1.0, description='red0', max=1.0, step=0.025), FloatSlider(value=1.0, descrip…"
      ]
     },
     "metadata": {},
     "output_type": "display_data"
    },
    {
     "data": {
      "application/vnd.jupyter.widget-view+json": {
       "model_id": "8440707a56594c08a2183692eb621f4f",
       "version_major": 2,
       "version_minor": 0
      },
      "text/plain": [
       "VBox(children=(FloatSlider(value=0.75, description='red1', max=1.0, step=0.025), FloatSlider(value=0.9, descri…"
      ]
     },
     "metadata": {},
     "output_type": "display_data"
    },
    {
     "data": {
      "application/vnd.jupyter.widget-view+json": {
       "model_id": "aa308e23110d4a57b271a61038273412",
       "version_major": 2,
       "version_minor": 0
      },
      "text/plain": [
       "VBox(children=(FloatSlider(value=0.0, description='red2', max=1.0, step=0.025), FloatSlider(value=0.1, descrip…"
      ]
     },
     "metadata": {},
     "output_type": "display_data"
    },
    {
     "data": {
      "application/vnd.jupyter.widget-view+json": {
       "model_id": "538e75766bca41c88ffa16888acabc75",
       "version_major": 2,
       "version_minor": 0
      },
      "text/plain": [
       "VBox(children=(FloatSlider(value=0.0, description='red3', max=1.0, step=0.025), FloatSlider(value=0.1, descrip…"
      ]
     },
     "metadata": {},
     "output_type": "display_data"
    },
    {
     "data": {
      "application/vnd.jupyter.widget-view+json": {
       "model_id": "5df02eb41921407c943876c5b4ec5541",
       "version_major": 2,
       "version_minor": 0
      },
      "text/plain": [
       "VBox(children=(FloatSlider(value=0.0, description='red4', max=1.0, step=0.025), FloatSlider(value=0.4, descrip…"
      ]
     },
     "metadata": {},
     "output_type": "display_data"
    },
    {
     "data": {
      "application/vnd.jupyter.widget-view+json": {
       "model_id": "9d2f23a9a4464c0ca9c91fb64e26ddba",
       "version_major": 2,
       "version_minor": 0
      },
      "text/plain": [
       "VBox(children=(FloatSlider(value=0.0, description='red5', max=1.0, step=0.025), FloatSlider(value=1.0, descrip…"
      ]
     },
     "metadata": {},
     "output_type": "display_data"
    },
    {
     "data": {
      "application/vnd.jupyter.widget-view+json": {
       "model_id": "284ad33cf3b649deb93145013ba8f053",
       "version_major": 2,
       "version_minor": 0
      },
      "text/plain": [
       "VBox(children=(FloatSlider(value=0.1, description='red6', max=1.0, step=0.025), FloatSlider(value=0.33, descri…"
      ]
     },
     "metadata": {},
     "output_type": "display_data"
    },
    {
     "data": {
      "application/vnd.jupyter.widget-view+json": {
       "model_id": "f65fa0a65eba4b6a873dd4a1a36b2152",
       "version_major": 2,
       "version_minor": 0
      },
      "text/plain": [
       "VBox(children=(FloatSlider(value=0.25, description='red7', max=1.0, step=0.025), FloatSlider(value=0.0, descri…"
      ]
     },
     "metadata": {},
     "output_type": "display_data"
    },
    {
     "data": {
      "application/vnd.jupyter.widget-view+json": {
       "model_id": "26ecd48d301c4675bf601ce6960e8d49",
       "version_major": 2,
       "version_minor": 0
      },
      "text/plain": [
       "VBox(children=(FloatSlider(value=0.5, description='red8', max=1.0, step=0.025), FloatSlider(value=0.25, descri…"
      ]
     },
     "metadata": {},
     "output_type": "display_data"
    },
    {
     "data": {
      "application/vnd.jupyter.widget-view+json": {
       "model_id": "2a1e1e82e7ed4737a2a969d9315a4081",
       "version_major": 2,
       "version_minor": 0
      },
      "text/plain": [
       "VBox(children=(FloatSlider(value=0.75, description='red9', max=1.0, step=0.025), FloatSlider(value=0.5, descri…"
      ]
     },
     "metadata": {},
     "output_type": "display_data"
    },
    {
     "data": {
      "application/vnd.jupyter.widget-view+json": {
       "model_id": "4416af4bd58b417bba6e661e2c16d545",
       "version_major": 2,
       "version_minor": 0
      },
      "text/plain": [
       "VBox(children=(FloatSlider(value=1.0, description='red10', max=1.0, step=0.025), FloatSlider(value=1.0, descri…"
      ]
     },
     "metadata": {},
     "output_type": "display_data"
    },
    {
     "data": {
      "application/vnd.jupyter.widget-view+json": {
       "model_id": "f61cda3a59814fd9b6ee181fabcc984a",
       "version_major": 2,
       "version_minor": 0
      },
      "text/plain": [
       "VBox(children=(FloatSlider(value=1.0, description='red11', max=1.0, step=0.025), FloatSlider(value=0.65, descr…"
      ]
     },
     "metadata": {},
     "output_type": "display_data"
    },
    {
     "data": {
      "application/vnd.jupyter.widget-view+json": {
       "model_id": "fbdf365c33814eba950921c07b1eaf22",
       "version_major": 2,
       "version_minor": 0
      },
      "text/plain": [
       "VBox(children=(FloatSlider(value=1.0, description='red12', max=1.0, step=0.025), FloatSlider(value=0.0, descri…"
      ]
     },
     "metadata": {},
     "output_type": "display_data"
    },
    {
     "data": {
      "application/vnd.jupyter.widget-view+json": {
       "model_id": "adc292b59fe84788b657cefb2e8b2cba",
       "version_major": 2,
       "version_minor": 0
      },
      "text/plain": [
       "VBox(children=(FloatSlider(value=0.2, description='red13', max=1.0, step=0.025), FloatSlider(value=0.0, descri…"
      ]
     },
     "metadata": {},
     "output_type": "display_data"
    },
    {
     "data": {
      "application/vnd.jupyter.widget-view+json": {
       "model_id": "247c16005bdd406f839833a284576a01",
       "version_major": 2,
       "version_minor": 0
      },
      "text/plain": [
       "VBox(children=(FloatSlider(value=1.0, description='red14', max=1.0, step=0.025), FloatSlider(value=0.65, descr…"
      ]
     },
     "metadata": {},
     "output_type": "display_data"
    },
    {
     "data": {
      "application/vnd.jupyter.widget-view+json": {
       "model_id": "f07636b8bbeb4be28151845babe094ab",
       "version_major": 2,
       "version_minor": 0
      },
      "text/plain": [
       "VBox(children=(FloatSlider(value=1.0, description='red15', max=1.0, step=0.025), FloatSlider(value=0.95, descr…"
      ]
     },
     "metadata": {},
     "output_type": "display_data"
    },
    {
     "data": {
      "application/vnd.jupyter.widget-view+json": {
       "model_id": "1aa59be0b81e4a65bd4c230969053390",
       "version_major": 2,
       "version_minor": 0
      },
      "text/plain": [
       "Output()"
      ]
     },
     "metadata": {},
     "output_type": "display_data"
    }
   ],
   "source": [
    "%matplotlib inline\n",
    "\n",
    "# MEDSPIRATION\n",
    "#channel_red=[1,1,0,0,0,0,0,0.5,1,1,1,0.25]\n",
    "#channel_green=[1,0.4,0,0.5,1,0.7,0.42,0.7,1,0.5,0,0]\n",
    "#channel_blue=[1,1,0.2,0.6,1,0.5,0,0,0,0,0,0]\n",
    "\n",
    "# ALT. MEDSPIRATION\n",
    "#channel_red=[1,1,0,0,0,0,0.33,0.66,1,1,1,0.25]\n",
    "#channel_green=[1,0.4,0,0.5,1,0.6,0.2,0.6,1,0.5,0,0]\n",
    "#channel_blue=[1,1,0.2,0.6,1,0.5,0,0,0,0,0,0]\n",
    "\n",
    "# Linear BMY(OR)\n",
    "channel_red=[0.00,0.11,0.35,0.57,0.75,0.89,1.00,1.00,1.00,1.00,1.00,1.00]\n",
    "channel_green=[0.06,0.10,0.10,0.05,0.05,0.17,0.35,0.53,0.67,0.81,0.65,0.00]\n",
    "channel_blue=[0.36,0.51,0.57,0.56,0.52,0.46,0.36,0.28,0.22,0.23,0.00,0.00]\n",
    "\n",
    "# ALT Linear BMY(OR)\n",
    "channel_red=[0.00,0.00,0.00,0.1,0.3,0.65,1.00,1.00,1.00,1.00,0.25,0.50]\n",
    "channel_green=[0.00,0.35,1.00,0.33,0.00,0.00,0.50,1.00,0.28,0.00,0.00,0.50]\n",
    "channel_blue=[0.25,0.38,1.00,0.72,0.30,0.65,1.00,0.00,0.00,0.00,0.00,0.50]\n",
    "\n",
    "# test \n",
    "channel_red=   [1.00, 0.75, 0.00, 0.00, 0.00, 0.00, 0.10, 0.25, 0.50, 0.75, 1.00, 1.00, 1.00, 0.20, 1.00, 1.00]\n",
    "channel_green= [1.00, 0.90, 0.10, 0.10, 0.40, 1.00, 0.33, 0.00, 0.25, 0.50, 1.00, 0.65, 0.00, 0.00, 0.65, 0.95]\n",
    "channel_blue=  [1.00, 1.00, 0.20, 0.20, 0.40, 1.00, 0.60, 0.25, 0.50, 0.75, 0.00, 0.00, 0.00, 0.00, 0.50, 0.95]\n",
    "\n",
    "print('nChannels: '+str(len(channel_red)))\n",
    "\n",
    "# build the interactive plotter widgets\n",
    "red_widgets = [] ; green_widgets = [] ; blue_widgets = []\n",
    "\n",
    "# build command; not a great way of doing this, but allows for dynamic function construction.\n",
    "for ii in range(len(channel_red)):\n",
    "    red_widgets.append('red' + str(ii) + '=' + 'widgets.FloatSlider(value=' \\\n",
    "                       + str(channel_red[ii]) + ', min=0.0, max=1.0, step=0.025)')\n",
    "    green_widgets.append('green' + str(ii) + '=' + 'widgets.FloatSlider(value=' \\\n",
    "                         + str(channel_green[ii]) + ', min=0.0, max=1.0, step=0.025)')\n",
    "    blue_widgets.append('blue' + str(ii) + '=' + 'widgets.FloatSlider(value=' \\\n",
    "                        + str(channel_blue[ii]) + ', min=0.0, max=1.0, step=0.025)')\n",
    "\n",
    "runCMD = 'interactive_plot = interactive(eq.plot_eq' + ',vmin=' + str(VMIN) + ',vmax=' + str(VMAX) + ',' \\\n",
    "                                     +','.join(red_widgets) + ',' \\\n",
    "                                     +','.join(green_widgets) + ',' \\\n",
    "                                     +','.join(blue_widgets) \\\n",
    "                                     +')'\n",
    "\n",
    "exec(runCMD)\n",
    "box_layout = Layout(display='flex', flex_flow='row', justify_content='space-between', align_items='center')\n",
    "for ii in range(2,len(channel_red)+2):\n",
    "    display(VBox([interactive_plot.children[ii],interactive_plot.children[ii+len(channel_red)],interactive_plot.children[ii+len(channel_red)*2]],\\\n",
    "                 layout=box_layout))\n",
    "display(interactive_plot.children[-1])"
   ]
  },
  {
   "cell_type": "code",
   "execution_count": 4,
   "metadata": {},
   "outputs": [],
   "source": [
    "# interpolate colour map onto required range / steps\n",
    "REDS = interactive_plot.result[2] ; GREENS = interactive_plot.result[3] ; BLUES = interactive_plot.result[4]\n",
    "TSCALE_ORIG = np.linspace(VMIN, VMAX, len(REDS))\n",
    "TSCALE_NEW = np.linspace(VMIN, VMAX, VSTEPS)\n",
    "\n",
    "interp_redf = interpolate.interp1d(TSCALE_ORIG, REDS)\n",
    "interp_greenf = interpolate.interp1d(TSCALE_ORIG, GREENS)\n",
    "interp_bluef = interpolate.interp1d(TSCALE_ORIG, BLUES)\n",
    "\n",
    "interp_red = np.array(interp_redf(TSCALE_NEW)*255.).astype(int)\n",
    "interp_green = np.array(interp_greenf(TSCALE_NEW)*255.).astype(int)\n",
    "interp_blue = np.array(interp_bluef(TSCALE_NEW)*255.).astype(int)"
   ]
  },
  {
   "cell_type": "code",
   "execution_count": 5,
   "metadata": {},
   "outputs": [],
   "source": [
    "# write to file\n",
    "my_file = 'BL_Test_Map3.grass'\n",
    "if os.path.exists(my_file):\n",
    "    os.remove(my_file)\n",
    "    \n",
    "with open(my_file, 'w') as the_file:\n",
    "    for ii in range(0,len(interp_red)):\n",
    "        the_file.write(str(TSCALE_NEW[ii]) + ' ' + \\\n",
    "                       str(interp_red[ii]) + ' ' + \\\n",
    "                       str(interp_green[ii]) + ' ' + \\\n",
    "                       str(interp_blue[ii]))\n",
    "        if ii != len(interp_red)-1:\n",
    "            the_file.write('\\n')"
   ]
  },
  {
   "cell_type": "code",
   "execution_count": null,
   "metadata": {},
   "outputs": [],
   "source": []
  }
 ],
 "metadata": {
  "kernelspec": {
   "display_name": "Python 3",
   "language": "python",
   "name": "python3"
  },
  "language_info": {
   "codemirror_mode": {
    "name": "ipython",
    "version": 3
   },
   "file_extension": ".py",
   "mimetype": "text/x-python",
   "name": "python",
   "nbconvert_exporter": "python",
   "pygments_lexer": "ipython3",
   "version": "3.6.5"
  }
 },
 "nbformat": 4,
 "nbformat_minor": 2
}
