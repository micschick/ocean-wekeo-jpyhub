{
 "cells": [
  {
   "cell_type": "markdown",
   "metadata": {},
   "source": [
    "# Python on-the-fly colormap generator"
   ]
  },
  {
   "cell_type": "markdown",
   "metadata": {},
   "source": [
    "Useful bit of code that allows you to see how python plots look on-the-fly."
   ]
  },
  {
   "cell_type": "code",
   "execution_count": null,
   "metadata": {},
   "outputs": [],
   "source": [
    "import Make_EQ as eq\n",
    "from ipywidgets import interactive, VBox, Layout, widgets, fixed\n",
    "import matplotlib.pyplot as plt\n",
    "import numpy as np\n",
    "from scipy import interpolate\n",
    "import os\n",
    "import xarray as xr"
   ]
  },
  {
   "cell_type": "code",
   "execution_count": null,
   "metadata": {},
   "outputs": [],
   "source": [
    "# define output interpolation specifics\n",
    "varfile = '/home/jovyan/work/products/dataset-oc-glo-chl-multi_cci-l4-chl_4km_monthly-rep-v02_1568876553803.nc'\n",
    "varname = 'CHL'\n",
    "lonname = 'longitude'\n",
    "latname = 'latitude'\n",
    "\n",
    "varfile = '/home/jovyan/work/products/METOFFICE-GLO-SST-L4-NRT-OBS-SST-V2_1568885414480.nc'\n",
    "varname = 'analysed_sst'\n",
    "lonname = 'lon'\n",
    "latname = 'lat'\n",
    "\n",
    "bbox = [5, 20, -35, -15]"
   ]
  },
  {
   "cell_type": "code",
   "execution_count": null,
   "metadata": {},
   "outputs": [],
   "source": [
    "# open data\n",
    "ds1 = xr.open_dataset(varfile)\n",
    "LAT = ds1.variables[latname].values\n",
    "LON = ds1.variables[lonname].values\n",
    "VAR = ds1.variables[varname].values\n",
    "ds1.close()\n",
    "\n",
    "if len(np.shape(VAR)) > 2:\n",
    "    VAR = np.squeeze(VAR[0,:,:])\n",
    "    \n",
    "if varname == 'analysed_sst':\n",
    "    VAR = VAR - 273.15\n",
    "\n",
    "ii = np.where((LON >= bbox[0]) & (LON <= bbox[1]))[0]\n",
    "jj = np.where((LAT >= bbox[2]) & (LAT <= bbox[3]))[0]\n",
    "\n",
    "LON = LON[ii[0]:ii[-1]]\n",
    "LAT = LAT[jj[0]:jj[-1]]\n",
    "VAR = VAR[jj[0]:jj[-1],ii[0]:ii[-1]]\n",
    "\n",
    "vlimits = [int(np.nanmin(VAR))-1, int(np.nanmax(VAR))+1, 255]"
   ]
  },
  {
   "cell_type": "code",
   "execution_count": null,
   "metadata": {},
   "outputs": [],
   "source": [
    "# colourmap examples\n",
    "\n",
    "# Medspiration\n",
    "channel_red=[1,1,0,0,0,0,0,0.5,1,1,1,0.25]\n",
    "channel_green=[1,0.4,0,0.5,1,0.7,0.42,0.7,1,0.5,0,0]\n",
    "channel_blue=[1,1,0.2,0.6,1,0.5,0,0,0,0,0,0]\n",
    "    \n",
    "#channel_red = [1,0.5,0,1]\n",
    "#channel_green = [1,1,0.5,1]\n",
    "#channel_blue = [1,0.5,0,1]"
   ]
  },
  {
   "cell_type": "code",
   "execution_count": null,
   "metadata": {
    "scrolled": false
   },
   "outputs": [],
   "source": [
    "%matplotlib inline\n",
    "\n",
    "nchan = len(channel_red)\n",
    "print('nChannels: '+str(nchan))\n",
    "\n",
    "# build the widgets\n",
    "red_widgets, green_widgets, blue_widgets = eq.make_widgets(channel_red, channel_green, channel_blue)\n",
    "\n",
    "# build the plot command\n",
    "runCMD = eq.build_plot_command(vlimits,\\\n",
    "                               red_widgets, green_widgets, blue_widgets)\n",
    "# run the plot command\n",
    "exec(runCMD)\n",
    "box_layout = Layout(display='flex', flex_flow='row', justify_content='space-between', align_items='center')\n",
    "\n",
    "# display the plot\n",
    "for ii in range(0, nchan):\n",
    "    display(VBox([iplot.children[ii], iplot.children[ii+nchan],iplot.children[ii+nchan*2]],\\\n",
    "                  layout=box_layout))\n",
    "display(iplot.children[-1])"
   ]
  },
  {
   "cell_type": "code",
   "execution_count": null,
   "metadata": {},
   "outputs": [],
   "source": [
    "# interpolate colour map onto required range / steps\n",
    "reds = interactive_plot.result[2]\n",
    "greens = interactive_plot.result[3]\n",
    "blues = interactive_plot.result[4]\n",
    "tscale_orig = np.linspace(vmin, vmax, len(reds))\n",
    "tscale_new = np.linspace(vmin, vmax, vsteps)\n",
    "\n",
    "interp_redf = interpolate.interp1d(tscale_orig, reds)\n",
    "interp_greenf = interpolate.interp1d(tscale_orig, greens)\n",
    "interp_bluef = interpolate.interp1d(tscale_orig, blues)\n",
    "\n",
    "interp_red = np.array(interp_redf(tscale_new)*255.).astype(int)\n",
    "interp_green = np.array(interp_greenf(tscale_new)*255.).astype(int)\n",
    "interp_blue = np.array(interp_bluef(tscale_new)*255.).astype(int)"
   ]
  },
  {
   "cell_type": "code",
   "execution_count": null,
   "metadata": {},
   "outputs": [],
   "source": [
    "# write to file\n",
    "my_file = 'Test_colbar.grass'\n",
    "if os.path.exists(my_file):\n",
    "    os.remove(my_file)\n",
    "    \n",
    "with open(my_file, 'w') as the_file:\n",
    "    for ii in range(0,len(interp_red)):\n",
    "        the_file.write(str(tscale_new[ii]) + ' ' + \\\n",
    "                       str(interp_red[ii]) + ' ' + \\\n",
    "                       str(interp_green[ii]) + ' ' + \\\n",
    "                       str(interp_blue[ii]))\n",
    "        if ii != len(interp_red)-1:\n",
    "            the_file.write('\\n')"
   ]
  }
 ],
 "metadata": {
  "kernelspec": {
   "display_name": "Python 3",
   "language": "python",
   "name": "python3"
  },
  "language_info": {
   "codemirror_mode": {
    "name": "ipython",
    "version": 3
   },
   "file_extension": ".py",
   "mimetype": "text/x-python",
   "name": "python",
   "nbconvert_exporter": "python",
   "pygments_lexer": "ipython3",
   "version": "3.6.6"
  }
 },
 "nbformat": 4,
 "nbformat_minor": 2
}
