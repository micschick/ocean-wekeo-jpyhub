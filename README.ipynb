{
 "cells": [
  {
   "cell_type": "markdown",
   "metadata": {},
   "source": [
    "**GIT REPOSITORY FOR EUMETSAT USC WEkEO JUPYTER-HUB CODE**\n",
    "\n",
    "---\n",
    "**CONTENTS:**\n",
    "---\n",
    "| Directory                            | Description                                        |\n",
    "| :----------------------------------- | :--------------------------------------------------|\n",
    "| Data_Transfer_Tools                  | Tools to support copying data to the Jupyter Hub   |\n",
    "| HDA_API_Testing                      | Scripts for testing the HDA API on the Jupyter Hub |\n",
    "| HDA_API_Tools                        | Scripts for using the HDA API                      |\n",
    "| Hub_Tools                            | Globally useful tools for using the hub            |\n",
    "| Image_Editing_Tools                  | Scripts for editing images                         |\n",
    "| Sentinel3_Case_Studies               | Sentinel-3 Case Studies                            |\n",
    "| Sentinel3_Tools                      | Scripts for Sentinel-3 data description            |\n",
    "| Sentinel3_Workflows                  | Scripts for Sentinel-3 workflows and case studies  |\n",
    "| Third_Party_Tools                    | Code and libraries from third party sources        |\n",
    "| README.txt                           | this file                                          |"
   ]
  }
 ],
 "metadata": {
  "kernelspec": {
   "display_name": "Python 3",
   "language": "python",
   "name": "python3"
  },
  "language_info": {
   "codemirror_mode": {
    "name": "ipython",
    "version": 3
   },
   "file_extension": ".py",
   "mimetype": "text/x-python",
   "name": "python",
   "nbconvert_exporter": "python",
   "pygments_lexer": "ipython3",
   "version": "3.6.7"
  }
 },
 "nbformat": 4,
 "nbformat_minor": 2
}
