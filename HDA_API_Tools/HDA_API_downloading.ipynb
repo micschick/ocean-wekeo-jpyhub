{
 "cells": [
  {
   "cell_type": "markdown",
   "metadata": {},
   "source": [
    "# Harmonised API examples for downloading EUM / ESA / CMEMS data"
   ]
  },
  {
   "cell_type": "markdown",
   "metadata": {},
   "source": [
    "This script shows you some examples of how to download data from different sources using the harmonised data access API."
   ]
  },
  {
   "cell_type": "code",
   "execution_count": 1,
   "metadata": {},
   "outputs": [],
   "source": [
    "import os\n",
    "import sys\n",
    "import json\n",
    "import time\n",
    "from zipfile import ZipFile\n",
    "sys.path.append(os.path.dirname(os.getcwd()) + '/Hub_Tools/')\n",
    "import harmonised_data_access_api_tools as hapi"
   ]
  },
  {
   "cell_type": "code",
   "execution_count": 2,
   "metadata": {},
   "outputs": [],
   "source": [
    "t0 = time.time()"
   ]
  },
  {
   "cell_type": "code",
   "execution_count": 3,
   "metadata": {},
   "outputs": [],
   "source": [
    "api_key = \"cmJ1UGJQVzZnT09HU2RUWDJhTGFkOGY4RjhnYTpGRmFCTTNoSXluVk1NdEk4b2dPc2ZjMHFOdlVh\"\n",
    "download_dir_path = \"/home/jovyan/work/products\"\n",
    "JSON_query_dir = os.path.join(os.getcwd(),'JSON_templates')\n",
    "verbose = False"
   ]
  },
  {
   "cell_type": "code",
   "execution_count": 4,
   "metadata": {},
   "outputs": [],
   "source": [
    "# example data sets available: codes from here >> https://www.wekeo.eu/dataset-navigator/start\n",
    "\n",
    "# ---------------------------- CMEMS options --------------------------\n",
    "#dataset_id = \"EO:MO:DAT:SEAICE_GLO_SEAICE_L4_NRT_OBSERVATIONS_011_001\" # CMEMS SEA-ICE tested\n",
    "#dataset_id = \"EO:MO:DAT:OCEANCOLOUR_GLO_CHL_L4_REP_OBSERVATIONS_009_093\" # CMEMS OC-CCI CHL tested\n",
    "dataset_id = \"EO:MO:DAT:SST_GLO_SST_L4_NRT_OBSERVATIONS_010_001\" # CMEMS OSTIA SST tested\n",
    "\n",
    "# ---------------------------- C3S options ----------------------------\n",
    "#dataset_id = \"EO:ECMWF:DAT:ERA5_HOURLY_DATA_ON_SINGLE_LEVELS_1979_PRESENT\" # ERA5 tested\n",
    "\n",
    "# ---------------------------- CAMS options ---------------------------\n",
    "#dataset_id = \"EO:ECMWF:DAT:CAMS_SOLAR_RADIATION_TIMESERIES\" # SOLAR RAD tested\n",
    "\n",
    "# ----------------- EUMETSAT COPERNICUS MARINE options ----------------\n",
    "#dataset_id = \"EO:EUM:DAT:SENTINEL-3:SR_1_SRA___\" # SRAL L1B tested\n",
    "#dataset_id = \"EO:EUM:DAT:SENTINEL-3:SR_1_SRA_BS___\" #SRAL L1BS tested\n",
    "#dataset_id = \"EO:EUM:DAT:SENTINEL-3:SR_1_SRA_A__\" #SRAL L1A >>>> not available <<<<\n",
    "#dataset_id = \"EO:EUM:DAT:SENTINEL-3:SR_2_WAT___\" # SRAL L2 tested\n",
    "#dataset_id = \"EO:EUM:DAT:SENTINEL-3:OL_1_ERR___\" # OLCI ERR tested\n",
    "#dataset_id = \"EO:EUM:DAT:SENTINEL-3:OL_1_EFR___\" # OLCI EFR tested\n",
    "#dataset_id = \"EO:EUM:DAT:SENTINEL-3:OL_2_WRR___\" # OLCI WRR tested\n",
    "#dataset_id = \"EO:EUM:DAT:SENTINEL-3:OL_2_WFR___\" # OLCI WFR tested\n",
    "#dataset_id = \"EO:EUM:DAT:SENTINEL-3:SL_1_RBT___\" # SLSTR L1 RBT tested\n",
    "#dataset_id = \"EO:EUM:DAT:SENTINEL-3:SL_2_WST___\" # SLSTR L2 WST tested\n",
    "\n",
    "# ------------------------- EUMETSAT other options -------------------\n",
    "#dataset_id = \"EO:EUM:SV:EUMETSAT:V01\"\n",
    "                \n",
    "# ------------------------- ESA MARINE options ------------------------\n",
    "#dataset_id = \"EO:ESA:DAT:SENTINEL-2:MSI1C\"       # MSI L1C tested\n",
    "#dataset_id = \"EO:ESA:DAT:SENTINEL-2:MSI2A\"       # MSI L2A not available >>>> not available <<<<\n",
    "#dataset_id = \"EO:ESA:DAT:SENTINEL-1:L1_GRD\"      # S1 L1 GRD tested\n",
    "#dataset_id = \"EO:ESA:DAT:SENTINEL-1:L1_SLC\"      # S1 L1 SLC tested"
   ]
  },
  {
   "cell_type": "code",
   "execution_count": 5,
   "metadata": {},
   "outputs": [
    {
     "name": "stdout",
     "output_type": "stream",
     "text": [
      "Found JSON query file, you may want to adapt it.\n"
     ]
    }
   ],
   "source": [
    "# find query file\n",
    "JSON_query_file = os.path.join(JSON_query_dir,dataset_id.replace(':','_')+\".json\")\n",
    "if not os.path.exists(JSON_query_file):\n",
    "    print('Query file ' + JSON_query_file + ' does not exist')\n",
    "    print('Script will stop after showing metadata, to aid in creating a query file.')\n",
    "    need_meta = True\n",
    "else:\n",
    "    print('Found JSON query file, you may want to adapt it.')\n",
    "    need_meta = False"
   ]
  },
  {
   "cell_type": "code",
   "execution_count": null,
   "metadata": {
    "scrolled": false
   },
   "outputs": [],
   "source": [
    "HAPI_dict = hapi.init(dataset_id, api_key, download_dir_path, verbose=verbose)\n",
    "HAPI_dict = hapi.get_access_token(HAPI_dict)\n",
    "HAPI_dict = hapi.accept_TandC(HAPI_dict)\n",
    "\n",
    "# check meta data for the dataset product >> query generation\n",
    "if need_meta:\n",
    "    HAPI_dict = hapi.query_metadata(HAPI_dict)\n",
    "    sys.exit()\n",
    "    \n",
    "# load the query\n",
    "with open(JSON_query_file, 'r') as f:\n",
    "    query = json.load(f)\n",
    "\n",
    "print('--------------------------------')\n",
    "print('Elapsed time: %s' % (time.time() - t0))\n",
    "print('--------------------------------')"
   ]
  },
  {
   "cell_type": "code",
   "execution_count": null,
   "metadata": {},
   "outputs": [],
   "source": [
    "# launch job\n",
    "HAPI_dict = hapi.launch_query(HAPI_dict, query)\n",
    "\n",
    "# wait for jobs to complete\n",
    "hapi.check_job_status(HAPI_dict)\n",
    "\n",
    "# check results\n",
    "HAPI_dict = hapi.get_results_list(HAPI_dict)\n",
    "HAPI_dict = hapi.get_download_links(HAPI_dict)\n",
    "\n",
    "# download data\n",
    "HAPI_dict = hapi.download_data(HAPI_dict, skip_existing=True)\n",
    "print('--------------------------------')\n",
    "print('Elapsed time: %s' % (time.time() - t0))\n",
    "print('--------------------------------')"
   ]
  }
 ],
 "metadata": {
  "kernelspec": {
   "display_name": "Python 3",
   "language": "python",
   "name": "python3"
  },
  "language_info": {
   "codemirror_mode": {
    "name": "ipython",
    "version": 3
   },
   "file_extension": ".py",
   "mimetype": "text/x-python",
   "name": "python",
   "nbconvert_exporter": "python",
   "pygments_lexer": "ipython3",
   "version": "3.6.7"
  }
 },
 "nbformat": 4,
 "nbformat_minor": 2
}
