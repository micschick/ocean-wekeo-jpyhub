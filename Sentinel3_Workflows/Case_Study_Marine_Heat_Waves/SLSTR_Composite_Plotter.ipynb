{
 "cells": [
  {
   "cell_type": "markdown",
   "metadata": {},
   "source": [
    "# SLSTR Composite Plotter"
   ]
  },
  {
   "cell_type": "markdown",
   "metadata": {},
   "source": [
    "    Version: 1.0\n",
    "    Date:    27/09/2019\n",
    "    Author:  Ben Loveday (Plymouth Marine Laboratory) and Hayley Evers-King (EUMETSAT)\n",
    "    Credit:  This code was developed for EUMETSAT under contracts for the Copernicus \n",
    "             programme.\n",
    "    License: This code is offered as open source and free-to-use in the public domain, \n",
    "             with no warranty."
   ]
  },
  {
   "cell_type": "markdown",
   "metadata": {},
   "source": [
    "**What is this notebook for?**\n",
    "\n",
    "This notebook will plot a Sentinel-3 SLSTR SST image composite by overlayinf three scenes.\n",
    "\n",
    "**What specific tools does this notebook use?**\n",
    "\n",
    "Image processing toolkit"
   ]
  },
  {
   "cell_type": "markdown",
   "metadata": {},
   "source": [
    "***"
   ]
  },
  {
   "cell_type": "code",
   "execution_count": null,
   "metadata": {},
   "outputs": [],
   "source": [
    "import os\n",
    "import shutil\n",
    "import sys\n",
    "import warnings\n",
    "import datetime\n",
    "import numpy as np\n",
    "import fnmatch\n",
    "import logging\n",
    "import xarray as xr\n",
    "import matplotlib.pyplot as plt\n",
    "from matplotlib import gridspec\n",
    "import cartopy.crs as ccrs\n",
    "import cartopy.feature as cfeature\n",
    "import matplotlib.patheffects as path_effects\n",
    "import xmltodict\n",
    "import glob\n",
    "import warnings\n",
    "warnings.filterwarnings(\"ignore\")\n",
    "\n",
    "# specific tools (which can be found here ../../Hub_tools/)\n",
    "sys.path.append(os.path.dirname(os.path.dirname(os.getcwd())) + '/Hub_Tools/')\n",
    "import image_tools as img"
   ]
  },
  {
   "cell_type": "markdown",
   "metadata": {},
   "source": [
    "***"
   ]
  },
  {
   "cell_type": "markdown",
   "metadata": {},
   "source": [
    "### Plotting function"
   ]
  },
  {
   "cell_type": "markdown",
   "metadata": {},
   "source": [
    "In this case, we plot our SLSTR scenes using a function that manages data ingestion, flagging, bias correction and makes some map embelishements (e.g. adds dotted lines to the scene edges, so we can tell where the boundaries are). We call this function for each image in the boxes further down."
   ]
  },
  {
   "cell_type": "code",
   "execution_count": null,
   "metadata": {},
   "outputs": [],
   "source": [
    "def make_SLSTR_composite_plot(nc_files, plot_extents=None, fsz=20,\\\n",
    "                              land_resolution='50m', vmin=10, vmax=28,\\\n",
    "                              xsize=20, ysize=16, dpi=150, QMASK=4,\\\n",
    "                              cmap=plt.cm.RdYlBu_r):\n",
    "    '''\n",
    "     Plots SLSTR images from n input files, will overay first to last.\n",
    "    '''\n",
    "    # get cartopy land layers\n",
    "    land_poly = cfeature.NaturalEarthFeature('physical', 'land', land_resolution,\n",
    "                                             edgecolor='k',\n",
    "                                             facecolor=cfeature.COLORS['land'])\n",
    "    \n",
    "    # setup figure\n",
    "    fig = plt.figure(figsize=(xsize, ysize), dpi=dpi)\n",
    "    plt.rc('font', size=fsz)\n",
    "    \n",
    "    # setup axes\n",
    "    gs = gridspec.GridSpec(3, 1, height_ratios=[20,0.5,1])\n",
    "    gs.update(wspace=0.01, hspace=0.01)\n",
    "\n",
    "    # setup plot 1\n",
    "    axes_m = plt.subplot(gs[0,0], projection=ccrs.PlateCarree())\n",
    "    axes_m.background_patch.set_facecolor('0.5')\n",
    "\n",
    "\n",
    "    if plot_extents:\n",
    "        axes_m.set_extent(plot_extents, ccrs.PlateCarree())\n",
    "\n",
    "    # read data and plot background\n",
    "    for nc_file in nc_files:\n",
    "        nc_fid = xr.open_dataset(nc_file)\n",
    "        LON = nc_fid.lon.data\n",
    "        LAT = nc_fid.lat.data\n",
    "        \n",
    "        x1 = 0 ; x1 = -1; y0 = 0 ; y1 = -1\n",
    "        # get subset based on plot extents\n",
    "        if plot_extents:\n",
    "            x1, x2, y1, y2 = img.subset_image(LAT, LON, plot_extents)\n",
    "\n",
    "        # read in and subset if required\n",
    "        LON = LON[x1:x2,y1:y2]\n",
    "        LAT = LAT[x1:x2,y1:y2]\n",
    "        SST_raw = np.squeeze(nc_fid.sea_surface_temperature.data[0,x1:x2,y1:y2])\n",
    "        SST_BIAS = np.squeeze(nc_fid.sses_bias.data[0,x1:x2,y1:y2])\n",
    "        QUALITY_LEVEL = np.squeeze(nc_fid.quality_level.data[0,x1:x2,y1:y2])\n",
    "        nc_fid.close()\n",
    "        \n",
    "        # correct SST\n",
    "        SST_C = SST_raw + SST_BIAS - 273.15\n",
    "\n",
    "        # flag data\n",
    "        SST_C[QUALITY_LEVEL<=QMASK] = np.nan\n",
    "\n",
    "        # plot the SST field\n",
    "        p1 = axes_m.pcolormesh(LON, LAT, SST_C, cmap=cmap,\\\n",
    "                          vmin=vmin, vmax=vmax, zorder=-1)\n",
    "\n",
    "        # add the plot edges\n",
    "        xml_file = os.path.dirname(nc_file)+'/xfdumanifest.xml'\n",
    "        with open(xml_file) as fd:\n",
    "            doc = xmltodict.parse(fd.read())\n",
    "            coords = doc['xfdu:XFDU']['metadataSection']['metadataObject'][2]\\\n",
    "                        ['metadataWrap']['xmlData']['sentinel-safe:frameSet']\\\n",
    "                        ['sentinel-safe:footPrint']['gml:posList']\n",
    "\n",
    "        # split the coords\n",
    "        lats_lons = coords.split(' ')\n",
    "        lats = np.asarray(lats_lons[::2]).astype(float)\n",
    "        lons = np.asarray(lats_lons[1::2]).astype(float)\n",
    "\n",
    "        if 'S3B' in nc_file:\n",
    "            plot_col = 'b'\n",
    "        else:\n",
    "            plot_col = 'k'\n",
    "\n",
    "        p2 = axes_m.plot(lons, lats, c=plot_col, linewidth=1,\\\n",
    "                    linestyle='--', zorder=5, alpha=0.5,\\\n",
    "                    transform=ccrs.PlateCarree())\n",
    "\n",
    "    # add some map embelishments\n",
    "    axes_m.coastlines(resolution=land_resolution, color='black', linewidth=1)\n",
    "    axes_m.add_feature(land_poly)\n",
    "    g1 = axes_m.gridlines(draw_labels = True)\n",
    "    g1.xlabels_top = False\n",
    "    g1.ylabels_right = False\n",
    "\n",
    "    g1.xlabel_style = {'size': fsz, 'color': 'gray'}\n",
    "    g1.ylabel_style = {'size': fsz, 'color': 'gray'}\n",
    "\n",
    "    # setup plot2: colorbar\n",
    "    axes_c = plt.subplot(gs[2,0])\n",
    "    cbar = plt.colorbar(p1, cax=axes_c, orientation='horizontal')\n",
    "    cbar.ax.tick_params(labelsize=fsz) \n",
    "    cbar.set_label('SLSTR SST composite [$^{o}$C]',fontsize=fsz)\n",
    "    \n",
    "    return gs, axes_m, axes_c"
   ]
  },
  {
   "cell_type": "markdown",
   "metadata": {},
   "source": [
    "### This is where our main code starts..."
   ]
  },
  {
   "cell_type": "markdown",
   "metadata": {},
   "source": [
    "We start by defining our data paths and finding all the necessary files (which glob.glob takes care of). Ths files are added to a list which is then sent to our large function above."
   ]
  },
  {
   "cell_type": "code",
   "execution_count": null,
   "metadata": {},
   "outputs": [],
   "source": [
    "# where the data should be downloaded to:\n",
    "download_dir_path = \"/home/jovyan/work/products\"\n",
    "\n",
    "# verbosity\n",
    "verbose = False\n",
    "\n",
    "# figure options\n",
    "figure_font_size = 20\n",
    "plot_extents = [-160, -116, 10, 45]\n",
    "vmin = 10\n",
    "vmax = 28\n",
    "\n",
    "# get the files\n",
    "SLSTR_files = glob.glob(os.path.join(download_dir_path,'S3*WST*201909*','*.nc'))"
   ]
  },
  {
   "cell_type": "markdown",
   "metadata": {},
   "source": [
    "If we set verbose=True in the box above box below will print out the files in has found."
   ]
  },
  {
   "cell_type": "code",
   "execution_count": null,
   "metadata": {},
   "outputs": [],
   "source": [
    "if verbose:\n",
    "    for SLSTR_file in SLSTR_files:\n",
    "        print(SLSTR_file)"
   ]
  },
  {
   "cell_type": "markdown",
   "metadata": {},
   "source": [
    "And now we pass our list of files to the plotting routine. The plotting routine returns the handles of our axes, so that we can still make some changes once the main plot is done (e.g. add the annotations). Finally, it will save fie figure."
   ]
  },
  {
   "cell_type": "code",
   "execution_count": null,
   "metadata": {},
   "outputs": [],
   "source": [
    "# make the plot: we will call this as a function as in contains a 'for' loop to make the plot\n",
    "fig, axis, colbar = make_SLSTR_composite_plot(SLSTR_files, plot_extents=plot_extents,\\\n",
    "                                              fsz=figure_font_size, vmin=vmin, vmax=vmax)\n",
    "\n",
    "# add some embellishments\n",
    "plt.sca(axis)\n",
    "\n",
    "label='Sentinel-3A SLSTR SST\\n07/09/2019 (22:27 local time)'    \n",
    "txt = plt.annotate(label, xy=(0.66, 1.01), xycoords='axes fraction',\\\n",
    "               size=figure_font_size/1.25,\n",
    "               color='k', zorder=100, annotation_clip=False)\n",
    "\n",
    "label='Sentinel-3A SLSTR SST\\n08/09/2019 (00:08 local time)'    \n",
    "txt = plt.annotate(label, xy=(0.005, 1.01), xycoords='axes fraction',\\\n",
    "               size=figure_font_size/1.25,\n",
    "               color='k', zorder=100, annotation_clip=False)\n",
    "\n",
    "label='Sentinel-3B SLSTR SST\\n08/09/2019 (23:28 local time)'    \n",
    "txt = plt.annotate(label, xy=(0.33, 1.01), xycoords='axes fraction',\\\n",
    "               size=figure_font_size/1.25,\n",
    "               color='b', zorder=100, annotation_clip=False)\n",
    "\n",
    "plt.savefig('SLSTR_All_SST_California_20190909.png',bbox_inches='tight')"
   ]
  }
 ],
 "metadata": {
  "kernelspec": {
   "display_name": "Python 3",
   "language": "python",
   "name": "python3"
  },
  "language_info": {
   "codemirror_mode": {
    "name": "ipython",
    "version": 3
   },
   "file_extension": ".py",
   "mimetype": "text/x-python",
   "name": "python",
   "nbconvert_exporter": "python",
   "pygments_lexer": "ipython3",
   "version": "3.6.7"
  }
 },
 "nbformat": 4,
 "nbformat_minor": 2
}
