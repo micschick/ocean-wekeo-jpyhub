{
 "cells": [
  {
   "cell_type": "markdown",
   "metadata": {},
   "source": [
    "# CMEMS OSTIA Marine Heatwave Time Series Plotter\n",
    "\n",
    "    Version: 2.0\n",
    "    Date:    17/09/2019\n",
    "    Author:  Ben Loveday (Plymouth Marine Laboratory ) and Hayley Evers-King (EUMETSAT)\n",
    "    Credit:  This code was developed for EUMETSAT under contracts for the Copernicus \n",
    "             programme.\n",
    "    License: This code is offered as open source and free-to-use in the public domain, \n",
    "             with no warranty."
   ]
  },
  {
   "cell_type": "markdown",
   "metadata": {},
   "source": [
    "**What is this notebook for?**\n",
    "\n",
    "**What specific tools does this notebook use?**\n"
   ]
  },
  {
   "cell_type": "markdown",
   "metadata": {},
   "source": [
    "***"
   ]
  },
  {
   "cell_type": "markdown",
   "metadata": {},
   "source": [
    "Python is divided into a series of modules that each contain a series of methods for specific tasks. The box below imports all of the moduls we need to complete our plotting task"
   ]
  },
  {
   "cell_type": "code",
   "execution_count": null,
   "metadata": {},
   "outputs": [],
   "source": [
    "%matplotlib inline\n",
    "\n",
    "# standard tools\n",
    "import os\n",
    "import sys\n",
    "import json\n",
    "import xarray as xr\n",
    "import numpy as np\n",
    "import matplotlib.pyplot as plt\n",
    "import matplotlib\n",
    "from matplotlib import gridspec\n",
    "import cartopy.crs as ccrs\n",
    "import cartopy.feature as cfeature\n",
    "import glob\n",
    "import warnings\n",
    "import datetime\n",
    "warnings.filterwarnings('ignore')\n",
    "\n",
    "# specific tools (which can be found here ../../Third_Party_Tools/)\n",
    "sys.path.append(os.path.dirname(os.path.dirname(os.getcwd())) + '/Third_Party_Tools/marineHeatWaves-master/')\n",
    "import marineHeatWaves as mhw"
   ]
  },
  {
   "cell_type": "code",
   "execution_count": null,
   "metadata": {},
   "outputs": [],
   "source": [
    "# where the data should have been downloaded to:\n",
    "download_dir_path = \"/home/jovyan/work/products/\"\n",
    "\n",
    "# subset image: cut a relevant section out of an image for area averaging. If false, whole area will be used.\n",
    "# THERE IS NO AREA WEIGHTING IN THE AVERAGING HERE! Subset_extents [lon1,lon2,lat1,lat2] describes the section.\n",
    "subset_image = False\n",
    "subset_extents = [-165.0, -145.0, 10.0, 30.0] # Actual product is +/- 10 degree box around Hawaii\n",
    "show_plots = False\n",
    "Date_ref = datetime.datetime(1981,1,1)\n",
    "tbase = 'seconds'\n",
    "\n",
    "# Select the times we want to use for our spatial anomaly plots [month, day]\n",
    "month_day_start = [8,1] \n",
    "month_day_end = [9,24]\n",
    "\n",
    "# Plotting font size\n",
    "fsz = 30"
   ]
  },
  {
   "cell_type": "markdown",
   "metadata": {},
   "source": [
    "Find all of our data files. We do this by concatenating two lists, as there are two distinct file types."
   ]
  },
  {
   "cell_type": "code",
   "execution_count": null,
   "metadata": {},
   "outputs": [],
   "source": [
    "SST_files = []\n",
    "my_files = glob.glob(download_dir_path+'/METOFFICE-GLO-SST-L4-RAN*')\n",
    "for SST_file in sorted(my_files):\n",
    "    SST_files.append(SST_file)\n",
    "    \n",
    "my_files = glob.glob(download_dir_path+'/METOFFICE-GLO-SST-L4-NRT*')\n",
    "for SST_file in sorted(my_files):\n",
    "    SST_files.append(SST_file)"
   ]
  },
  {
   "cell_type": "markdown",
   "metadata": {},
   "source": [
    "Now compare the target SST against our reference (e.g. the climatology we downloaded in the CMEMS_OSTIA_Climatology_Data_Downloader.ipynb notebook)"
   ]
  },
  {
   "cell_type": "code",
   "execution_count": null,
   "metadata": {
    "scrolled": false
   },
   "outputs": [],
   "source": [
    "#load the co-ordinate variables we need for subsetting/plotting\n",
    "ds = xr.open_dataset(SST_files[-1])\n",
    "lat = ds.lat.data\n",
    "lon = ds.lon.data\n",
    "ds.close()\n",
    "\n",
    "# subset coords if required, getting indices to subset out output SST products\n",
    "if subset_image:\n",
    "    ii = np.where((lon >= subset_extents[0]) & (lon <= subset_extents[1]))[0]\n",
    "    jj = np.where((lat >= subset_extents[2]) & (lat <= subset_extents[3]))[0]\n",
    "    lon = lon[ii]\n",
    "    lat = lat[jj]\n",
    "\n",
    "# initialise lists for output times series variables for MWH    \n",
    "all_times = []\n",
    "all_SST = []\n",
    "\n",
    "# initialise arrays for output SST fields\n",
    "iter_SST = np.ones([len(SST_files), len(lat), len(lon)])*np.nan\n",
    "\n",
    "# now we get the area-averaged data\n",
    "count = -1\n",
    "for SST_file in SST_files:\n",
    "    print(SST_file)\n",
    "    count = count + 1\n",
    "\n",
    "    # xarray does not read times consistency between RAN and NRT, so we load as integer\n",
    "    ds = xr.open_dataset(SST_file, decode_times=False)\n",
    "    this_SST = ds.analysed_sst.data\n",
    "    times = ds.time.data\n",
    "    ds.close()\n",
    "\n",
    "    my_times = []\n",
    "    for time in times:\n",
    "        my_times.append(Date_ref + datetime.timedelta(seconds=int(time)))\n",
    "    times = np.asarray(my_times)\n",
    "    \n",
    "    t0 = datetime.datetime(times[0].year, month_day_start[0], month_day_start[1])\n",
    "    t1 = datetime.datetime(times[0].year, month_day_end[0], month_day_end[1])\n",
    "    tt = np.where((times >= t0) & (times <= t1))[0]\n",
    "\n",
    "    if np.nanmean(this_SST) > 100:\n",
    "        this_SST = this_SST - 273.15\n",
    "\n",
    "    if subset_image:\n",
    "        this_SST = this_SST[:,jj[0]:jj[-1],ii[0]:ii[-1]]\n",
    "    \n",
    "    time_subset_SST = this_SST[tt,:,:]\n",
    "\n",
    "    iter_SST[count,:,:] = np.squeeze(np.nanmean(time_subset_SST, axis=0))\n",
    "\n",
    "    all_times.append(my_times)\n",
    "    all_SST.append(np.nanmean(np.nanmean(this_SST, axis=1), axis=1))"
   ]
  },
  {
   "cell_type": "code",
   "execution_count": null,
   "metadata": {},
   "outputs": [],
   "source": [
    "# flatten the SST list\n",
    "SST_time_series = [item for sublist in all_SST for item in sublist]\n",
    "SST_time_series = np.asarray(SST_time_series)\n",
    "\n",
    "# format the dates for the MWH toolkit\n",
    "Dates_time_series = [item for sublist in all_times for item in sublist]\n",
    "Dates_time_series_formatted = [datetime.date.toordinal(tt) for tt in Dates_time_series]"
   ]
  },
  {
   "cell_type": "code",
   "execution_count": null,
   "metadata": {},
   "outputs": [],
   "source": [
    "# make climatology of time subset region\n",
    "clim_SST = np.nanmean(iter_SST, axis=0)\n",
    "\n",
    "# calculate heat waves\n",
    "mhws, clim = mhw.detect(np.asarray(Dates_time_series_formatted), SST_time_series)"
   ]
  },
  {
   "cell_type": "code",
   "execution_count": null,
   "metadata": {},
   "outputs": [],
   "source": [
    "# plot MWHs\n",
    "ev = np.argmax(mhws['intensity_max']) # Find largest event\n",
    "\n",
    "fig = plt.figure(figsize=(35,15), dpi = 300)\n",
    "plt.rc('font', size=fsz)\n",
    "\n",
    "# Find indices for all n MHWs before and after event of interest and shade accordingly\n",
    "n=10\n",
    "for ev0 in np.arange(ev-n, ev+n, 1):\n",
    "    t1 = np.where(Dates_time_series_formatted==mhws['time_start'][ev0])[0][0]\n",
    "    t2 = np.where(Dates_time_series_formatted==mhws['time_end'][ev0])[0][0]\n",
    "    p1 = plt.fill_between(Dates_time_series[t1:t2+1], SST_time_series[t1:t2+1],\\\n",
    "                          clim['thresh'][t1:t2+1], color=(1,0.85,0.85))\n",
    "    \n",
    "# Find indices for MHW of interest and shade accordingly\n",
    "t1 = np.where(Dates_time_series_formatted==mhws['time_start'][-1])[0][0]\n",
    "t2 = np.where(Dates_time_series_formatted==mhws['time_end'][-1])[0][0]\n",
    "p2 = plt.fill_between(Dates_time_series[t1:t2+1], SST_time_series[t1:t2+1],\\\n",
    "                      clim['thresh'][t1:t2+1], color='r')\n",
    "\n",
    "# Plot SST, seasonal cycle, threshold, shade MHWs with main event in red\n",
    "p3, = plt.plot(Dates_time_series, SST_time_series, 'k-', linewidth=2)\n",
    "p4, = plt.plot(Dates_time_series, clim['thresh'], 'b--', linewidth=2)\n",
    "p5, = plt.plot(Dates_time_series, clim['seas'], 'b-', linewidth=2)\n",
    "\n",
    "xmin = datetime.datetime(2014,1,1).toordinal() - datetime.datetime(1,1,1).toordinal()\n",
    "xmax = datetime.datetime(2019,12,31).toordinal() - datetime.datetime(1,1,1).toordinal()\n",
    "plt.xlim(xmin,xmax)\n",
    "\n",
    "plt.ylim(clim['seas'].min() - 0.3, clim['seas'].max() + mhws['intensity_max'][ev] + 0.2)\n",
    "plt.ylabel('SST [$^\\circ$C]')\n",
    "plt.annotate('Plotting script credit:\\nhttps://github.com/ecjoliver/marineHeatWaves',\\\n",
    "             (0.005, 0.935), xycoords='axes fraction', color='0.5', fontsize=fsz/1.25)\n",
    "\n",
    "leg = plt.legend([p3, p5, p4, p2, p1],\\\n",
    "                 ['SST 2019','SST Seas. clim.','SST Seas. thresh.','Current heatwave','Past heatwave'],\\\n",
    "                 bbox_to_anchor=(1.0, -0.05), ncol=5)\n",
    "\n",
    "leg.get_frame().set_linewidth(0.0)\n",
    "plt.savefig('MHW.png')"
   ]
  },
  {
   "cell_type": "markdown",
   "metadata": {},
   "source": [
    "make climate stripes"
   ]
  },
  {
   "cell_type": "code",
   "execution_count": null,
   "metadata": {},
   "outputs": [],
   "source": [
    "# make matrix\n",
    "stripe_array = np.ones([20,len(SST_files)])*np.nan\n",
    "\n",
    "# now make the anomaly\n",
    "for ii in range(len(SST_files)):\n",
    "    stripe_array[:, ii] = np.nanmean(np.squeeze(iter_SST[ii,:,:]) - clim_SST)"
   ]
  },
  {
   "cell_type": "code",
   "execution_count": null,
   "metadata": {},
   "outputs": [],
   "source": [
    "fig = plt.figure(figsize=(30,10), dpi =300)\n",
    "vmax = np.nanmax(abs(stripe_array))\n",
    "\n",
    "date_ticks = []\n",
    "for ii in range(len(SST_files)):\n",
    "    date_ticks.append(str(1988+ii))\n",
    "    \n",
    "plt.pcolormesh(stripe_array,vmin=vmax*-1,vmax=vmax,cmap=plt.cm.RdBu_r)\n",
    "plt.xticks(np.arange(len(SST_files))+0.5,date_ticks, rotation='90')\n",
    "plt.yticks([],[])\n",
    "cbar = plt.colorbar()\n",
    "cbar.set_label('SST anomaly [$^{o}$C] (1$^{st}$ Aug - 24$^{th}$ Sep)',fontsize=fsz/1.25)\n",
    "plt.savefig('Stripes.png')"
   ]
  },
  {
   "cell_type": "markdown",
   "metadata": {},
   "source": [
    "Make spatial plots for anomaly gif"
   ]
  }
 ],
 "metadata": {
  "kernelspec": {
   "display_name": "Python 3",
   "language": "python",
   "name": "python3"
  },
  "language_info": {
   "codemirror_mode": {
    "name": "ipython",
    "version": 3
   },
   "file_extension": ".py",
   "mimetype": "text/x-python",
   "name": "python",
   "nbconvert_exporter": "python",
   "pygments_lexer": "ipython3",
   "version": "3.6.7"
  }
 },
 "nbformat": 4,
 "nbformat_minor": 2
}
