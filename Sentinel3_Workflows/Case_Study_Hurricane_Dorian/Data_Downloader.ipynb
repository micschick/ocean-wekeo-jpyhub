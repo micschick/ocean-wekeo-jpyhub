{
 "cells": [
  {
   "cell_type": "markdown",
   "metadata": {},
   "source": [
    "# Data Downloader"
   ]
  },
  {
   "cell_type": "markdown",
   "metadata": {},
   "source": [
    "    Version: 1.0\n",
    "    Date:    27/09/2019\n",
    "    Author:  Ben Loveday (Plymouth Marine Laboratory) and Hayley Evers-King (EUMETSAT)\n",
    "    Credit:  This code was developed for EUMETSAT under contracts for the Copernicus \n",
    "             programme.\n",
    "    License: This code is offered as open source and free-to-use in the public domain, \n",
    "             with no warranty."
   ]
  },
  {
   "cell_type": "markdown",
   "metadata": {},
   "source": [
    "**What is this notebook for?**\n",
    "\n",
    "This notebook will download EUMETSAT Sentinel-3 data to support plotting.\n",
    "\n",
    "**What specific tools does this notebook use?**\n",
    "\n",
    "The harmonised data access API"
   ]
  },
  {
   "cell_type": "markdown",
   "metadata": {},
   "source": [
    "***"
   ]
  },
  {
   "cell_type": "markdown",
   "metadata": {},
   "source": [
    "Python is divided into a series of modules that each contain a series of methods for specific tasks. The box below imports all of the moduls we need to complete our plotting task"
   ]
  },
  {
   "cell_type": "code",
   "execution_count": 1,
   "metadata": {},
   "outputs": [],
   "source": [
    "# standard tools\n",
    "import os, sys, json\n",
    "from zipfile import ZipFile\n",
    "\n",
    "# specific tools (which can be found here ../Hub_tools/)\n",
    "sys.path.append(os.path.dirname(os.path.dirname(os.getcwd())) + '/Hub_Tools/')\n",
    "import harmonised_data_access_api_tools as hapi"
   ]
  },
  {
   "cell_type": "markdown",
   "metadata": {},
   "source": [
    "WEkEO provides access to a huge number of datasets through its 'harmonised-data-access' API. This allows us to query the full data catalogue and download data quickly and directly onto our Jupyter Hub. You can search for what data is available here: https://www.wekeo.eu/dataset-navigator/start.\n",
    "\n",
    "In order to use the HDA-API we need to provide some authentication credentials, which comes in the form of an api_key. You can get your key from here; https://www.wekeo.eu/api-keys. If you click on the 'show hidden keys' button at the bottom of the page it will reveal a number of keys. The one you need is in the top grey box, and is on the following line:\n",
    "\n",
    "-H \"Authorization: Basic \"**YOUR API KEY**\"\n",
    "\n",
    "Replace \"YOUR API KEY\" below with what you copy from \"**YOUR API KEY**\" (N.B. you need to keep the quotation marks.)"
   ]
  },
  {
   "cell_type": "code",
   "execution_count": 2,
   "metadata": {},
   "outputs": [],
   "source": [
    "# your api key:\n",
    "api_key = \"cmJ1UGJQVzZnT09HU2RUWDJhTGFkOGY4RjhnYTpGRmFCTTNoSXluVk1NdEk4b2dPc2ZjMHFOdlVh\"\n",
    "# where the data should be downloaded to:\n",
    "download_dir_path = \"/home/jovyan/work/products/Dorian/\"\n",
    "# where we can find our data query form:\n",
    "JSON_query_dir = os.path.join(os.getcwd(),'JSON_templates')\n",
    "# HDA-API loud and noisy?\n",
    "verbose = False"
   ]
  },
  {
   "cell_type": "markdown",
   "metadata": {},
   "source": [
    "Make our download directory if it does not exist"
   ]
  },
  {
   "cell_type": "code",
   "execution_count": 3,
   "metadata": {},
   "outputs": [],
   "source": [
    "if not os.path.exists(download_dir_path):\n",
    "    os.makedirs(download_dir_path)"
   ]
  },
  {
   "cell_type": "markdown",
   "metadata": {},
   "source": [
    "Set the data source (which we use as a key for our JSON query file)"
   ]
  },
  {
   "cell_type": "code",
   "execution_count": 4,
   "metadata": {},
   "outputs": [],
   "source": [
    "# Sentinel-3 keys\n",
    "dataset_ids = [\"EO:EUM:DAT:SENTINEL-3:SL_1_RBT___\",\\\n",
    "               \"EO:EUM:DAT:SENTINEL-3:SL_1_RBT___\",\\\n",
    "               \"EO:EUM:DAT:SENTINEL-3:OL_1_EFR___\",\\\n",
    "               \"EO:EUM:DAT:SENTINEL-3:OL_2_WFR___\",\\\n",
    "               \"EO:EUM:DAT:SENTINEL-3:SR_2_WAT___\",\\\n",
    "               \"EO:EUM:DAT:SENTINEL-3:SR_2_WAT___\",\\\n",
    "               \"EO:EUM:DAT:SENTINEL-3:SR_2_WAT___\",\\\n",
    "               \"EO:EUM:DAT:SENTINEL-3:SR_2_WAT___\"]\n",
    "\n",
    "start_dates = [\"2019-09-02T02:53:00.000Z\",\"2019-09-03T03:06:00.000Z\",\\\n",
    "               \"2019-09-03T15:29:00.000Z\",\"2019-09-02T15:16:00.000Z\",\\\n",
    "               \"2019-09-02T02:23:00.000Z\",\"2019-09-02T14:59:00.000Z\",\\\n",
    "               \"2019-09-03T02:38:00.000Z\",\"2019-09-03T15:12:00.000Z\"]\n",
    "\n",
    "end_dates = [\"2019-09-02T02:57:00.000Z\",\"2019-09-03T03:09:30.000Z\",\\\n",
    "             \"2019-09-03T15:33:00.000Z\",\"2019-09-02T15:20:00.000Z\",\\\n",
    "             \"2019-09-02T03:13:00.000Z\",\"2019-09-02T15:46:00.000Z\",\\\n",
    "             \"2019-09-03T03:26:00.000Z\",\"2019-09-03T15:59:59.000Z\"]"
   ]
  },
  {
   "cell_type": "markdown",
   "metadata": {},
   "source": [
    "Now we download the data. See the following scripts and notebooks for information on how this works:\n",
    "    \n",
    "    *samples/How_To_Guide-Harmonized_Data_Access-v0.1.3.ipynb*\n",
    "    *ocean-wekeo-jpyhub/HDA_API_Tools/HDA_API_downloading.ipynb*\n",
    "    *ocean-wekeo-jpyhub/Hub_Tools/harmonised_data_access_api_tools.py*"
   ]
  },
  {
   "cell_type": "code",
   "execution_count": 5,
   "metadata": {
    "scrolled": false
   },
   "outputs": [
    {
     "name": "stdout",
     "output_type": "stream",
     "text": [
      "Getting an access token. This token is valid for one hour only.\n",
      "Success: Access token is 5d5cc635-b292-3e24-83e1-da1a4f09b1b0\n",
      "Copernicus_General_License Terms and Conditions already accepted\n",
      "Query successfully submitted. Job ID is 0db96b56-2c45-46ef-9be6-3bd662b9bb5b\n",
      "The Job 0db96b56-2c45-46ef-9be6-3bd662b9bb5b has not completed\n",
      "The Job 0db96b56-2c45-46ef-9be6-3bd662b9bb5b has completed\n",
      "Total number of products/results: 1\n",
      "<Response [200]>\n",
      "{'Server': 'nginx/1.15.3', 'Date': 'Mon, 14 Oct 2019 13:31:43 GMT', 'Content-Type': 'application/octet-stream', 'Transfer-Encoding': 'chunked', 'Connection': 'keep-alive', 'Set-Cookie': 'route=f85a5f7075970718f910a85b79e9b7eeb8be48e4; Domain=apis.wekeo.eu; Path=/; HttpOnly, f5avrbbbbbbbbbbbbbbbb=KODPIEFANCEHKADKEECOAGHGCDKJOEEGKIIEPAAPDGHNJDNKFFBPCKEGPMJFECHOKNIAOODLEIEDIFECKHPIGGOJJIIAMHPCNIDAJOINNENHHKKJEHLKGCMPBAPGCHLL; HttpOnly; secure', 'Accept-Ranges': 'bytes', 'Access-Control-Allow-Origin': '*', 'Content-Range': 'bytes 0-422121423/422121424', 'ETag': '\"361B663D8C289C92ED8C22AC78999EAB\"', 'Access-Control-Allow-Methods': 'GET', 'Content-Disposition': 'inline;filename=\"S3B_SL_1_RBT____20190902T025313_20190902T025613_20190903T160218_0179_029_232_0360_MAR_O_NT_003.zip\"', 'Expires': 'Mon, 21 Oct 2019 13:31:43 UTC', 'Pragma': 'no-cache', 'Access-Control-Allow-Headers': 'authorization,Access-Control-Allow-Origin,Content-Type,SOAPAction', 'DataServiceVersion': '2.0', 'Strict-Transport-Security': 'max-age=15724800; includeSubDomains'}\n",
      "inline;filename=\"S3B_SL_1_RBT____20190902T025313_20190902T025613_20190903T160218_0179_029_232_0360_MAR_O_NT_003.zip\"\n",
      "Skipping S3B_SL_1_RBT____20190902T025313_20190902T025613_20190903T160218_0179_029_232_0360_MAR_O_NT_003.zip as it exists already\n",
      "Unzipping file\n",
      "Getting an access token. This token is valid for one hour only.\n",
      "Success: Access token is 5d5cc635-b292-3e24-83e1-da1a4f09b1b0\n",
      "Copernicus_General_License Terms and Conditions already accepted\n",
      "Query successfully submitted. Job ID is a37924fa-96f9-4c3f-a6d8-eb52a29d7ba2\n",
      "The Job a37924fa-96f9-4c3f-a6d8-eb52a29d7ba2 has not completed\n",
      "The Job a37924fa-96f9-4c3f-a6d8-eb52a29d7ba2 has completed\n",
      "Total number of products/results: 1\n",
      "<Response [200]>\n",
      "{'Server': 'nginx/1.15.3', 'Date': 'Mon, 14 Oct 2019 13:32:13 GMT', 'Content-Type': 'application/octet-stream', 'Transfer-Encoding': 'chunked', 'Connection': 'keep-alive', 'Set-Cookie': 'route=f85a5f7075970718f910a85b79e9b7eeb8be48e4; Domain=apis.wekeo.eu; Path=/; HttpOnly, f5avrbbbbbbbbbbbbbbbb=ABPEOOAPDHBHAGIPBHHPCLBPPFFGOIFDGLADDMKIHICFBMNHJEAEHDBBNGKABBGGFCOFMOEPBFDDLPFBNCHMEIMDNBMAJPADJIBACGBEIHPJEMEAHHNOLPHEPHBAJIPC; HttpOnly; secure', 'Accept-Ranges': 'bytes', 'Access-Control-Allow-Origin': '*', 'Content-Range': 'bytes 0-568656951/568656952', 'ETag': '\"779713F2E757D71C342C1A8C814275A4\"', 'Access-Control-Allow-Methods': 'GET', 'Content-Disposition': 'inline;filename=\"S3B_SL_1_RBT____20190903T030602_20190903T030902_20190904T123605_0179_029_246_2700_MAR_O_NT_003.zip\"', 'Expires': 'Mon, 21 Oct 2019 13:32:13 UTC', 'Pragma': 'no-cache', 'Access-Control-Allow-Headers': 'authorization,Access-Control-Allow-Origin,Content-Type,SOAPAction', 'DataServiceVersion': '2.0', 'Strict-Transport-Security': 'max-age=15724800; includeSubDomains'}\n",
      "inline;filename=\"S3B_SL_1_RBT____20190903T030602_20190903T030902_20190904T123605_0179_029_246_2700_MAR_O_NT_003.zip\"\n",
      "Skipping S3B_SL_1_RBT____20190903T030602_20190903T030902_20190904T123605_0179_029_246_2700_MAR_O_NT_003.zip as it exists already\n",
      "Unzipping file\n",
      "Getting an access token. This token is valid for one hour only.\n",
      "Success: Access token is 5d5cc635-b292-3e24-83e1-da1a4f09b1b0\n",
      "Copernicus_General_License Terms and Conditions already accepted\n",
      "Query successfully submitted. Job ID is d51e91ce-3cbe-4b3e-94f6-b04785fd7817\n",
      "The Job d51e91ce-3cbe-4b3e-94f6-b04785fd7817 has not completed\n",
      "The Job d51e91ce-3cbe-4b3e-94f6-b04785fd7817 has completed\n",
      "Total number of products/results: 1\n",
      "<Response [200]>\n",
      "{'Server': 'nginx/1.15.3', 'Date': 'Mon, 14 Oct 2019 13:32:20 GMT', 'Content-Type': 'application/octet-stream', 'Transfer-Encoding': 'chunked', 'Connection': 'keep-alive', 'Set-Cookie': 'route=f85a5f7075970718f910a85b79e9b7eeb8be48e4; Domain=apis.wekeo.eu; Path=/; HttpOnly, f5avrbbbbbbbbbbbbbbbb=LFGFNHHDBEADELLNBDLDGINAAHDFAGBEPFJNMHIKJNEOBKDAPBNPCNEAMDAGKPLMPBACEHFFPFCDBENAGNJCOGCOOFDAMFCMJIJIOMLKDEFFOJMKJHBMMHDPEKBOJMOK; HttpOnly; secure', 'Accept-Ranges': 'bytes', 'Access-Control-Allow-Origin': '*', 'Content-Range': 'bytes 0-664845290/664845291', 'ETag': '\"4C7625742E68F00E6492846EBD3CC7F1\"', 'Access-Control-Allow-Methods': 'GET', 'Content-Disposition': 'inline;filename=\"S3A_OL_1_EFR____20190903T152927_20190903T153227_20190904T214648_0180_049_011_2520_MAR_O_NT_002.zip\"', 'Expires': 'Mon, 21 Oct 2019 13:32:20 UTC', 'Pragma': 'no-cache', 'Access-Control-Allow-Headers': 'authorization,Access-Control-Allow-Origin,Content-Type,SOAPAction', 'DataServiceVersion': '2.0', 'Strict-Transport-Security': 'max-age=15724800; includeSubDomains'}\n",
      "inline;filename=\"S3A_OL_1_EFR____20190903T152927_20190903T153227_20190904T214648_0180_049_011_2520_MAR_O_NT_002.zip\"\n",
      "Skipping S3A_OL_1_EFR____20190903T152927_20190903T153227_20190904T214648_0180_049_011_2520_MAR_O_NT_002.zip as it exists already\n",
      "Unzipping file\n",
      "Getting an access token. This token is valid for one hour only.\n",
      "Success: Access token is 5d5cc635-b292-3e24-83e1-da1a4f09b1b0\n",
      "Copernicus_General_License Terms and Conditions already accepted\n",
      "Query successfully submitted. Job ID is dc1b6ec9-69da-4a19-8896-876d42efa554\n",
      "The Job dc1b6ec9-69da-4a19-8896-876d42efa554 has not completed\n",
      "The Job dc1b6ec9-69da-4a19-8896-876d42efa554 has completed\n",
      "Total number of products/results: 1\n",
      "<Response [200]>\n",
      "{'Server': 'nginx/1.15.3', 'Date': 'Mon, 14 Oct 2019 13:32:39 GMT', 'Content-Type': 'application/octet-stream', 'Transfer-Encoding': 'chunked', 'Connection': 'keep-alive', 'Set-Cookie': 'route=b4df61ecda99d22e07fb02509f4998f8bb82543c; Domain=apis.wekeo.eu; Path=/; HttpOnly, f5avrbbbbbbbbbbbbbbbb=NCEONMAILJDGNNPLELEFAFPEPNNKHCBIPGDFGEJGCJALJIDGKDLGBJKJBLDENCAOMPPPHPKCMNNDKIBJLGJIDINDFKOANPHIBIKJACOGBKGKDKCIKHEBKOHJFABCDBKG; HttpOnly; secure', 'Accept-Ranges': 'bytes', 'Access-Control-Allow-Origin': '*', 'Content-Range': 'bytes 0-340940429/340940430', 'ETag': '\"D51F20C479F2754282B2178FEDB55039\"', 'Access-Control-Allow-Methods': 'GET', 'Content-Disposition': 'inline;filename=\"S3B_OL_2_WFR____20190902T151607_20190902T151907_20190904T003825_0179_029_239_2520_MAR_O_NT_002.zip\"', 'Expires': 'Mon, 21 Oct 2019 13:32:39 UTC', 'Pragma': 'no-cache', 'Access-Control-Allow-Headers': 'authorization,Access-Control-Allow-Origin,Content-Type,SOAPAction', 'DataServiceVersion': '2.0', 'Strict-Transport-Security': 'max-age=15724800; includeSubDomains'}\n",
      "inline;filename=\"S3B_OL_2_WFR____20190902T151607_20190902T151907_20190904T003825_0179_029_239_2520_MAR_O_NT_002.zip\"\n",
      "Skipping S3B_OL_2_WFR____20190902T151607_20190902T151907_20190904T003825_0179_029_239_2520_MAR_O_NT_002.zip as it exists already\n",
      "Unzipping file\n",
      "Getting an access token. This token is valid for one hour only.\n",
      "Success: Access token is 5d5cc635-b292-3e24-83e1-da1a4f09b1b0\n",
      "Copernicus_General_License Terms and Conditions already accepted\n",
      "Query successfully submitted. Job ID is 9cd6d869-6a4a-4092-96c8-e74d69e5f9ac\n",
      "The Job 9cd6d869-6a4a-4092-96c8-e74d69e5f9ac has not completed\n",
      "The Job 9cd6d869-6a4a-4092-96c8-e74d69e5f9ac has completed\n",
      "Total number of products/results: 1\n",
      "<Response [200]>\n",
      "{'Server': 'nginx/1.15.3', 'Date': 'Mon, 14 Oct 2019 13:32:59 GMT', 'Content-Type': 'application/octet-stream', 'Transfer-Encoding': 'chunked', 'Connection': 'keep-alive', 'Set-Cookie': 'route=f85a5f7075970718f910a85b79e9b7eeb8be48e4; Domain=apis.wekeo.eu; Path=/; HttpOnly, f5avrbbbbbbbbbbbbbbbb=KPHOEIHCFNHONHICLMHHHKGFPJBCPMHJKLPNBCEEBNLNJMLMLNBKKEELMNEKNKFDDDGNANOFOFIDNLJHLNNFBDKAOMLAIKGEAIAKNDPBGGJPCEJOLHFHOEHNBCDONJOC; HttpOnly; secure', 'Accept-Ranges': 'bytes', 'Access-Control-Allow-Origin': '*', 'Content-Range': 'bytes 0-33948143/33948144', 'ETag': '\"409BC27ECAB711BD94B32C38069F95C7\"', 'Access-Control-Allow-Methods': 'GET', 'Content-Disposition': 'inline;filename=\"S3B_SR_2_WAT____20190902T022457_20190902T031225_20190927T175645_2848_029_231______MAR_O_NT_003.zip\"', 'Expires': 'Mon, 21 Oct 2019 13:32:59 UTC', 'Pragma': 'no-cache', 'Access-Control-Allow-Headers': 'authorization,Access-Control-Allow-Origin,Content-Type,SOAPAction', 'DataServiceVersion': '2.0', 'Strict-Transport-Security': 'max-age=15724800; includeSubDomains'}\n",
      "inline;filename=\"S3B_SR_2_WAT____20190902T022457_20190902T031225_20190927T175645_2848_029_231______MAR_O_NT_003.zip\"\n",
      "Skipping S3B_SR_2_WAT____20190902T022457_20190902T031225_20190927T175645_2848_029_231______MAR_O_NT_003.zip as it exists already\n",
      "Unzipping file\n",
      "Getting an access token. This token is valid for one hour only.\n",
      "Success: Access token is 5d5cc635-b292-3e24-83e1-da1a4f09b1b0\n",
      "Copernicus_General_License Terms and Conditions already accepted\n"
     ]
    },
    {
     "name": "stdout",
     "output_type": "stream",
     "text": [
      "Query successfully submitted. Job ID is f564e620-daf8-4f1c-8bd5-81f8979d7d4a\n",
      "The Job f564e620-daf8-4f1c-8bd5-81f8979d7d4a has not completed\n",
      "The Job f564e620-daf8-4f1c-8bd5-81f8979d7d4a has completed\n",
      "Total number of products/results: 1\n",
      "<Response [200]>\n",
      "{'Server': 'nginx/1.15.3', 'Date': 'Mon, 14 Oct 2019 13:33:02 GMT', 'Content-Type': 'application/octet-stream', 'Transfer-Encoding': 'chunked', 'Connection': 'keep-alive', 'Set-Cookie': 'route=f85a5f7075970718f910a85b79e9b7eeb8be48e4; Domain=apis.wekeo.eu; Path=/; HttpOnly, f5avrbbbbbbbbbbbbbbbb=FHCNNHJHNPICHHCIGDGFIMNPCIMPONDJGEHMJMODFEJIADCCMLGLEGJJNFIJKIEMALHDPBIMEAEDIAPOJIHONFNANKKAHDFDDIODICGFMLANOCLJMHFHAOGFOEKIMOJJ; HttpOnly; secure', 'Accept-Ranges': 'bytes', 'Access-Control-Allow-Origin': '*', 'Content-Range': 'bytes 0-51233642/51233643', 'ETag': '\"52D4708B61EE0FCC676D756C50A4EBF4\"', 'Access-Control-Allow-Methods': 'GET', 'Content-Disposition': 'inline;filename=\"S3B_SR_2_WAT____20190902T145920_20190902T154559_20190928T070007_2799_029_239______MAR_O_NT_003.zip\"', 'Expires': 'Mon, 21 Oct 2019 13:33:02 UTC', 'Pragma': 'no-cache', 'Access-Control-Allow-Headers': 'authorization,Access-Control-Allow-Origin,Content-Type,SOAPAction', 'DataServiceVersion': '2.0', 'Strict-Transport-Security': 'max-age=15724800; includeSubDomains'}\n",
      "inline;filename=\"S3B_SR_2_WAT____20190902T145920_20190902T154559_20190928T070007_2799_029_239______MAR_O_NT_003.zip\"\n",
      "Downloading /home/jovyan/work/products/Dorian/S3B_SR_2_WAT____20190902T145920_20190902T154559_20190928T070007_2799_029_239______MAR_O_NT_003.zip\n",
      "File size is:    48.86 MB\n",
      "[==================================================]    14.15 Mbps[   48.86] MB downloaded, 14482.38 kbps\n",
      "Download complete (took 3.4548109999999994 seconds)\n",
      "\n",
      "Unzipping file\n",
      "Getting an access token. This token is valid for one hour only.\n",
      "Success: Access token is 5d5cc635-b292-3e24-83e1-da1a4f09b1b0\n",
      "Copernicus_General_License Terms and Conditions already accepted\n",
      "Query successfully submitted. Job ID is a9b710e3-b79e-49cc-bd44-f78ddce778d4\n",
      "The Job a9b710e3-b79e-49cc-bd44-f78ddce778d4 has not completed\n",
      "The Job a9b710e3-b79e-49cc-bd44-f78ddce778d4 has completed\n",
      "Total number of products/results: 1\n",
      "<Response [200]>\n",
      "{'Server': 'nginx/1.15.3', 'Date': 'Mon, 14 Oct 2019 13:33:10 GMT', 'Content-Type': 'application/octet-stream', 'Transfer-Encoding': 'chunked', 'Connection': 'keep-alive', 'Set-Cookie': 'route=f85a5f7075970718f910a85b79e9b7eeb8be48e4; Domain=apis.wekeo.eu; Path=/; HttpOnly, f5avrbbbbbbbbbbbbbbbb=JHLAHGJOKDDMEGGLNFJIJKOKOPGNNDHEFAFDPCOEDKENCDAKAKJHPFPENAOPFLIEBJCKLLIFKLKDBHOGJLLNOJINLOFACCKCLIOKHCPFDPFFDFKMMHDJNOKDKOGPKOHF; HttpOnly; secure', 'Accept-Ranges': 'bytes', 'Access-Control-Allow-Origin': '*', 'Content-Range': 'bytes 0-31982751/31982752', 'ETag': '\"BD6DBA70D763576A555A8BB078F9D3A3\"', 'Access-Control-Allow-Methods': 'GET', 'Content-Disposition': 'inline;filename=\"S3A_SR_2_WAT____20190903T023809_20190903T032545_20190928T190107_2856_049_003______MAR_O_NT_003.zip\"', 'Expires': 'Mon, 21 Oct 2019 13:33:10 UTC', 'Pragma': 'no-cache', 'Access-Control-Allow-Headers': 'authorization,Access-Control-Allow-Origin,Content-Type,SOAPAction', 'DataServiceVersion': '2.0', 'Strict-Transport-Security': 'max-age=15724800; includeSubDomains'}\n",
      "inline;filename=\"S3A_SR_2_WAT____20190903T023809_20190903T032545_20190928T190107_2856_049_003______MAR_O_NT_003.zip\"\n",
      "Downloading /home/jovyan/work/products/Dorian/S3A_SR_2_WAT____20190903T023809_20190903T032545_20190928T190107_2856_049_003______MAR_O_NT_003.zip\n",
      "File size is:    30.50 MB\n",
      "[==================================================]    11.34 Mbps[   30.50] MB downloaded, 11600.35 kbps\n",
      "Download complete (took 2.692494 seconds)\n",
      "\n",
      "Unzipping file\n",
      "Getting an access token. This token is valid for one hour only.\n",
      "Success: Access token is 5d5cc635-b292-3e24-83e1-da1a4f09b1b0\n",
      "Copernicus_General_License Terms and Conditions already accepted\n",
      "Query successfully submitted. Job ID is 4c23990a-f8f1-437a-82dd-6c3f1cf39e18\n",
      "The Job 4c23990a-f8f1-437a-82dd-6c3f1cf39e18 has not completed\n",
      "The Job 4c23990a-f8f1-437a-82dd-6c3f1cf39e18 has completed\n",
      "Total number of products/results: 1\n",
      "<Response [200]>\n",
      "{'Server': 'nginx/1.15.3', 'Date': 'Mon, 14 Oct 2019 13:33:15 GMT', 'Content-Type': 'application/octet-stream', 'Transfer-Encoding': 'chunked', 'Connection': 'keep-alive', 'Set-Cookie': 'route=f85a5f7075970718f910a85b79e9b7eeb8be48e4; Domain=apis.wekeo.eu; Path=/; HttpOnly, f5avrbbbbbbbbbbbbbbbb=CHMEAFCPLAGNJHLNIKFGEGFBLHEAGMPOFDCOLPBBDIJMBLALHCMNIKLHFJGDJFOBGEIFFKDAPKIDBIBGDIKNHPPDFDGAADMHAIAKEMMLOBCPMCLLNHPLHHPNJMMCBKMF; HttpOnly; secure', 'Accept-Ranges': 'bytes', 'Access-Control-Allow-Origin': '*', 'Content-Range': 'bytes 0-49792522/49792523', 'ETag': '\"97E84D08A7FADE2A7CF4B5A984C21154\"', 'Access-Control-Allow-Methods': 'GET', 'Content-Disposition': 'inline;filename=\"S3A_SR_2_WAT____20190903T151240_20190903T155915_20190929T072834_2795_049_011______MAR_O_NT_003.zip\"', 'Expires': 'Mon, 21 Oct 2019 13:33:15 UTC', 'Pragma': 'no-cache', 'Access-Control-Allow-Headers': 'authorization,Access-Control-Allow-Origin,Content-Type,SOAPAction', 'DataServiceVersion': '2.0', 'Strict-Transport-Security': 'max-age=15724800; includeSubDomains'}\n",
      "inline;filename=\"S3A_SR_2_WAT____20190903T151240_20190903T155915_20190929T072834_2795_049_011______MAR_O_NT_003.zip\"\n",
      "Downloading /home/jovyan/work/products/Dorian/S3A_SR_2_WAT____20190903T151240_20190903T155915_20190929T072834_2795_049_011______MAR_O_NT_003.zip\n",
      "File size is:    47.48 MB\n",
      "[==================================================]    15.43 Mbps[   47.49] MB downloaded, 15794.25 kbps\n",
      "Download complete (took 3.078744000000002 seconds)\n",
      "\n",
      "Unzipping file\n"
     ]
    }
   ],
   "source": [
    "for dataset_id, start_date, end_date in zip(dataset_ids, start_dates, end_dates):\n",
    "    # find query file\n",
    "    JSON_query_file = os.path.join(JSON_query_dir,\"EO_EUM_DAT_SENTINEL-3_GENERAL.json\")\n",
    "\n",
    "    HAPI_dict = hapi.init(dataset_id, api_key, download_dir_path, verbose=verbose)\n",
    "    HAPI_dict = hapi.get_access_token(HAPI_dict)\n",
    "    HAPI_dict = hapi.accept_TandC(HAPI_dict)\n",
    "\n",
    "    # load the query\n",
    "    with open(JSON_query_file, 'r') as f:\n",
    "        query = f.read()\n",
    "        query = query.replace(\"%DATE_START%\",start_date)\n",
    "        query = query.replace(\"%DATE_END%\",end_date)\n",
    "        query = query.replace(\"%KEY%\",dataset_id)\n",
    "        query = json.loads(query)\n",
    "\n",
    "    if verbose:\n",
    "        print(query)\n",
    "    \n",
    "    # launch job\n",
    "    HAPI_dict = hapi.launch_query(HAPI_dict, query)\n",
    "\n",
    "    # wait for jobs to complete\n",
    "    HAPI_dict = hapi.check_job_status(HAPI_dict)\n",
    "    if HAPI_dict['nresults'] == 0:\n",
    "        print('Nothing to do for this query....')\n",
    "    else:\n",
    "        HAPI_dict = hapi.get_results_list(HAPI_dict)\n",
    "        HAPI_dict = hapi.get_download_links(HAPI_dict)\n",
    "        HAPI_dict = hapi.download_data(HAPI_dict, skip_existing=True)\n",
    "    \n",
    "    # unzip file\n",
    "    for filename in HAPI_dict['filenames']:\n",
    "        if os.path.splitext(filename)[-1] == '.zip':\n",
    "            print('Unzipping file')\n",
    "            with ZipFile(filename, 'r') as zipObj:\n",
    "                # Extract all the contents of zip file in current directory\n",
    "                zipObj.extractall(os.path.dirname(filename))"
   ]
  }
 ],
 "metadata": {
  "kernelspec": {
   "display_name": "Python 3",
   "language": "python",
   "name": "python3"
  },
  "language_info": {
   "codemirror_mode": {
    "name": "ipython",
    "version": 3
   },
   "file_extension": ".py",
   "mimetype": "text/x-python",
   "name": "python",
   "nbconvert_exporter": "python",
   "pygments_lexer": "ipython3",
   "version": "3.6.7"
  }
 },
 "nbformat": 4,
 "nbformat_minor": 2
}
