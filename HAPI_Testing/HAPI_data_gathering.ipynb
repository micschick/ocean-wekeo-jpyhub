{
 "cells": [
  {
   "cell_type": "markdown",
   "metadata": {},
   "source": [
    "# Harmonised API examples the EUM / ESA / CMEMS data"
   ]
  },
  {
   "cell_type": "code",
   "execution_count": 1,
   "metadata": {},
   "outputs": [],
   "source": [
    "import os\n",
    "import sys\n",
    "import json\n",
    "import time\n",
    "from zipfile import ZipFile\n",
    "sys.path.append(os.path.dirname(os.getcwd()) + '/Hub_Tools/')\n",
    "import harmonised_data_access_api_tools as hapi"
   ]
  },
  {
   "cell_type": "code",
   "execution_count": 2,
   "metadata": {},
   "outputs": [],
   "source": [
    "t0 = time.time()"
   ]
  },
  {
   "cell_type": "code",
   "execution_count": 3,
   "metadata": {},
   "outputs": [],
   "source": [
    "api_key = \"cmJ1UGJQVzZnT09HU2RUWDJhTGFkOGY4RjhnYTpGRmFCTTNoSXluVk1NdEk4b2dPc2ZjMHFOdlVh\"\n",
    "download_dir_path = \"/home/jovyan/work/test_data\"\n",
    "verbose = False"
   ]
  },
  {
   "cell_type": "code",
   "execution_count": 4,
   "metadata": {},
   "outputs": [
    {
     "name": "stdout",
     "output_type": "stream",
     "text": [
      "Query file /home/jovyan/work/ocean-wekeo-jpyhub/JSON_templates/EO_EUM_DAT_SENTINEL-3_OL_2_WRR___.json does not exist\n",
      "Script will stop after showing metadata, to aid in creating a query file.\n"
     ]
    }
   ],
   "source": [
    "# example data sets available: codes from here >> https://www.wekeo.eu/dataset-navigator/start\n",
    "\n",
    "# ---------------------------- CMEMS options --------------------------\n",
    "#dataset_id = \"EO:MO:DAT:SEAICE_GLO_SEAICE_L4_NRT_OBSERVATIONS_011_001\" # tested\n",
    "#dataset_id = \"EO:MO:DAT:OCEANCOLOUR_ARC_CHL_L3_REP_OBSERVATIONS_009_069\" # ESA OC-CCI REP\n",
    "\n",
    "# ---------------------------- C3S options ----------------------------\n",
    "#dataset_id = \"EO:ECMWF:DAT:ERA5_HOURLY_DATA_ON_SINGLE_LEVELS_1979_PRESENT\" # ERA5\n",
    "\n",
    "# ---------------------------- CAMS options ---------------------------\n",
    "#dataset_id = \"EO:ECMWF:DAT:CAMS_SOLAR_RADIATION_TIMESERIES\" # SOLAR RAD\n",
    "\n",
    "# ----------------- EUMETSAT COPERNICUS MARINE options ----------------\n",
    "#dataset_id = \"EO:EUM:DAT:SENTINEL-3:SR_1_SRA___\" # SRAL L1B tested\n",
    "#dataset_id = \"EO:EUM:DAT:SENTINEL-3:SR_1_SRA_BS___\" #SRAL L1BS tested\n",
    "#dataset_id = \"EO:EUM:DAT:SENTINEL-3:SR_1_SRA_A__\" #SRAL L1A >>>> not available <<<<\n",
    "#dataset_id = \"EO:EUM:DAT:SENTINEL-3:SR_2_WAT___\" # SRAL L2 tested\n",
    "#dataset_id = \"EO:EUM:DAT:SENTINEL-3:OL_1_ERR___\" # OLCI ERR tested\n",
    "#dataset_id = \"EO:EUM:DAT:SENTINEL-3:OL_1_EFR___\" # OLCI EFR tested\n",
    "#dataset_id = \"EO:EUM:DAT:SENTINEL-3:OL_2_WRR___\" # OLCI WRR tested\n",
    "#dataset_id = \"EO:EUM:DAT:SENTINEL-3:OL_2_WFR___\" # OLCI WFR tested\n",
    "#dataset_id = \"EO:EUM:DAT:SENTINEL-3:SL_1_RBT___\" # SLSTR L1 RBT tested\n",
    "#dataset_id = \"EO:EUM:DAT:SENTINEL-3:SL_2_WST___\" # SLSTR L2 WST tested\n",
    "\n",
    "# ------------------------- EUMETSAT other options -------------------\n",
    "#dataset_id = \"EO:EUM:SV:EUMETSAT:V01\"\n",
    "                \n",
    "# ------------------------- ESA MARINE options ------------------------\n",
    "#dataset_id = \"EO:ESA:DAT:SENTINEL-2:MSI1C\"       # MSI L1C tested\n",
    "#dataset_id = \"EO:ESA:DAT:SENTINEL-2:MSI2A\"       # MSI L2A not available >>>> not available <<<<\n",
    "#dataset_id = \"EO:ESA:DAT:SENTINEL-1:L1_GRD\"      # S1 L1 GRD tested\n",
    "#dataset_id = \"EO:ESA:DAT:SENTINEL-1:L1_SLC\"      # S1 L1 SLC tested"
   ]
  },
  {
   "cell_type": "code",
   "execution_count": null,
   "metadata": {},
   "outputs": [],
   "source": [
    "# find query file\n",
    "JSON_query_file = os.path.join(os.path.dirname(os.getcwd()),\"JSON_templates\",dataset_id.replace(':','_')+\".json\")\n",
    "if not os.path.exists(JSON_query_file):\n",
    "    print('Query file ' + JSON_query_file + ' does not exist')\n",
    "    print('Script will stop after showing metadata, to aid in creating a query file.')\n",
    "    need_meta = True\n",
    "else:\n",
    "    print('Found JSON query file, you may want to adapt it.')\n",
    "    need_meta = False"
   ]
  },
  {
   "cell_type": "code",
   "execution_count": 5,
   "metadata": {
    "scrolled": false
   },
   "outputs": [
    {
     "name": "stdout",
     "output_type": "stream",
     "text": [
      "Getting an access token. This token is valid for one hour only.\n",
      "Success: Access token is 155f472b-4206-34bf-a993-649335d1552e\n",
      "Copernicus_General_License Terms and Conditions already accepted\n",
      "Getting query metadata, URL Is https://apis.wekeo.eu/databroker/0.1.0/querymetadata/EO%3AEUM%3ADAT%3ASENTINEL-3%3AOL_2_WRR___?access_token=155f472b-4206-34bf-a993-649335d1552e\n",
      "************** Query Metadata for EO:EUM:DAT:SENTINEL-3:OL_2_WRR___ **************\n",
      "{\n",
      "    \"datasetId\": \"OL_2_WRR___\",\n",
      "    \"parameters\": {\n",
      "        \"boundingBoxes\": [\n",
      "            {\n",
      "                \"comment\": \"What area of the Earth would you like your data to cover?\",\n",
      "                \"details\": {\n",
      "                    \"crs\": \"EPSG:4326\",\n",
      "                    \"extent\": [\n",
      "                        -180.0,\n",
      "                        -90.0,\n",
      "                        180.0,\n",
      "                        90.0\n",
      "                    ]\n",
      "                },\n",
      "                \"label\": \"Select a geographic extent\",\n",
      "                \"name\": \"bbox\",\n",
      "                \"required\": false\n",
      "            }\n",
      "        ],\n",
      "        \"dateRangeSelects\": [\n",
      "            {\n",
      "                \"comment\": \"Temporal Range\",\n",
      "                \"details\": {\n",
      "                    \"defaultEnd\": \"2019-09-17T13:13:25.219Z\",\n",
      "                    \"defaultStart\": \"2019-08-18T13:13:25.219Z\",\n",
      "                    \"end\": \"2019-09-17T13:13:25.219Z\",\n",
      "                    \"start\": \"2018-09-14T16:31:55.87Z\"\n",
      "                },\n",
      "                \"label\": \"Temporal Range\",\n",
      "                \"name\": \"dtrange\",\n",
      "                \"required\": false\n",
      "            }\n",
      "        ],\n",
      "        \"stringChoices\": [\n",
      "            {\n",
      "                \"comment\": \"The product timeliness\",\n",
      "                \"details\": {\n",
      "                    \"valuesLabels\": {\n",
      "                        \"Near Real Time\": \"Near Real Time\",\n",
      "                        \"Non Time Critical\": \"Non Time Critical\",\n",
      "                        \"Short Time Critical\": \"Short Time Critical\"\n",
      "                    }\n",
      "                },\n",
      "                \"label\": \"Timeliness\",\n",
      "                \"name\": \"timeliness\",\n",
      "                \"required\": false\n",
      "            }\n",
      "        ]\n",
      "    },\n",
      "    \"userTerms\": {\n",
      "        \"accepted\": true,\n",
      "        \"downloadUrl\": null,\n",
      "        \"markdownUrl\": null,\n",
      "        \"termId\": \"Copernicus_General_License\"\n",
      "    }\n",
      "}\n",
      "**************************************************************************\n"
     ]
    },
    {
     "ename": "SystemExit",
     "evalue": "",
     "output_type": "error",
     "traceback": [
      "An exception has occurred, use %tb to see the full traceback.\n",
      "\u001b[0;31mSystemExit\u001b[0m\n"
     ]
    },
    {
     "name": "stderr",
     "output_type": "stream",
     "text": [
      "/opt/conda/lib/python3.6/site-packages/IPython/core/interactiveshell.py:3275: UserWarning: To exit: use 'exit', 'quit', or Ctrl-D.\n",
      "  warn(\"To exit: use 'exit', 'quit', or Ctrl-D.\", stacklevel=1)\n"
     ]
    }
   ],
   "source": [
    "HAPI_dict = hapi.init(dataset_id, api_key, download_dir_path, verbose=verbose)\n",
    "HAPI_dict = hapi.get_access_token(HAPI_dict)\n",
    "HAPI_dict = hapi.accept_TandC(HAPI_dict)\n",
    "\n",
    "# check meta data for the dataset product >> query generation\n",
    "if need_meta:\n",
    "    HAPI_dict = hapi.query_metadata(HAPI_dict)\n",
    "    sys.exit()\n",
    "    \n",
    "# load the query\n",
    "with open(JSON_query_file, 'r') as f:\n",
    "    query = json.load(f)\n",
    "\n",
    "print('--------------------------------')\n",
    "print('Elapsed time: %s' % (time.time() - t0))\n",
    "print('--------------------------------')"
   ]
  },
  {
   "cell_type": "code",
   "execution_count": null,
   "metadata": {},
   "outputs": [],
   "source": [
    "# launch job\n",
    "HAPI_dict = hapi.launch_query(HAPI_dict, query)\n",
    "\n",
    "# wait for jobs to complete\n",
    "hapi.check_job_status(HAPI_dict)\n",
    "\n",
    "# check results\n",
    "HAPI_dict = hapi.get_results_list(HAPI_dict)\n",
    "HAPI_dict = hapi.get_download_links(HAPI_dict)\n",
    "\n",
    "# download data\n",
    "HAPI_dict = hapi.download_data(HAPI_dict, skip_existing=True)\n",
    "print('--------------------------------')\n",
    "print('Elapsed time: %s' % (time.time() - t0))\n",
    "print('--------------------------------')"
   ]
  },
  {
   "cell_type": "code",
   "execution_count": null,
   "metadata": {},
   "outputs": [],
   "source": []
  }
 ],
 "metadata": {
  "kernelspec": {
   "display_name": "Python 3",
   "language": "python",
   "name": "python3"
  },
  "language_info": {
   "codemirror_mode": {
    "name": "ipython",
    "version": 3
   },
   "file_extension": ".py",
   "mimetype": "text/x-python",
   "name": "python",
   "nbconvert_exporter": "python",
   "pygments_lexer": "ipython3",
   "version": "3.6.6"
  }
 },
 "nbformat": 4,
 "nbformat_minor": 2
}
