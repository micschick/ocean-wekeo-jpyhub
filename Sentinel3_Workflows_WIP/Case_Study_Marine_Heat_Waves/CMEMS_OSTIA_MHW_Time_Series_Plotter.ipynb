{
 "cells": [
  {
   "cell_type": "markdown",
   "metadata": {},
   "source": [
    "# CMEMS OSTIA Marine Heatwave Time Series Plotter\n",
    "\n",
    "    Version: 2.0\n",
    "    Date:    17/09/2019\n",
    "    Author:  Ben Loveday (Plymouth Marine Laboratory ) and Hayley Evers-King (EUMETSAT)\n",
    "    Credit:  This code was developed for EUMETSAT under contracts for the Copernicus \n",
    "             programme.\n",
    "    License: This code is offered as open source and free-to-use in the public domain, \n",
    "             with no warranty."
   ]
  },
  {
   "cell_type": "markdown",
   "metadata": {},
   "source": [
    "    Version: 2.0\n",
    "    Date:    17/09/2019\n",
    "    Author:  Ben Loveday (Plymouth Marine Laboratory ) and Hayley Evers-King (EUMETSAT)\n",
    "    Credit:  This code was developed for EUMETSAT under contracts for the Copernicus \n",
    "             programme.\n",
    "    License: This code is offered as open source and free-to-use in the public domain, \n",
    "             with no warranty."
   ]
  },
  {
   "cell_type": "markdown",
   "metadata": {},
   "source": [
    "**What is this notebook for?**\n",
    "\n",
    "**What specific tools does this notebook use?**\n"
   ]
  },
  {
   "cell_type": "markdown",
   "metadata": {},
   "source": [
    "***"
   ]
  },
  {
   "cell_type": "markdown",
   "metadata": {},
   "source": [
    "Python is divided into a series of modules that each contain a series of methods for specific tasks. The box below imports all of the moduls we need to complete our plotting task"
   ]
  },
  {
   "cell_type": "code",
   "execution_count": null,
   "metadata": {},
   "outputs": [],
   "source": [
    "%matplotlib inline\n",
    "\n",
    "# standard tools\n",
    "import os\n",
    "import sys\n",
    "import json\n",
    "import xarray as xr\n",
    "import numpy as np\n",
    "import matplotlib.pyplot as plt\n",
    "import matplotlib\n",
    "from matplotlib import gridspec\n",
    "import cartopy.crs as ccrs\n",
    "import cartopy.feature as cfeature\n",
    "import glob\n",
    "import warnings\n",
    "warnings.filterwarnings('ignore')"
   ]
  },
  {
   "cell_type": "code",
   "execution_count": null,
   "metadata": {},
   "outputs": [],
   "source": [
    "# where the data should have been downloaded to:\n",
    "download_dir_path = \"/home/jovyan/work/products\"\n",
    "\n",
    "# subset image: cut a relevant section out of an image for area averaging. If false, whole area will be used.\n",
    "# THERE IS NO AREA WEIGHTING IN THE AVERAGING HERE! Subset_extents [lon1,lon2,lat1,lat2] describes the section.\n",
    "subset_image = True\n",
    "subset_extents = [-165.0, -145.0, 10.0, 30.0] # +/- 10 degree box around Hawaii\n",
    "show_plots = False"
   ]
  },
  {
   "cell_type": "markdown",
   "metadata": {},
   "source": [
    "Find all of our data files. We do this by concatenating two lists, as there are two distinct file types."
   ]
  },
  {
   "cell_type": "code",
   "execution_count": null,
   "metadata": {},
   "outputs": [],
   "source": [
    "SST_files = []\n",
    "my_files = glob.glob(download_dir_path+'/METOFFICE-GLO-SST-L4-RAN*')\n",
    "for SST_file in sorted(my_files):\n",
    "    SST_files.append(SST_file)\n",
    "    \n",
    "my_files = glob.glob(download_dir_path+'/METOFFICE-GLO-SST-L4-NRT*')\n",
    "for SST_file in sorted(my_files):\n",
    "    SST_files.append(SST_file)"
   ]
  },
  {
   "cell_type": "markdown",
   "metadata": {},
   "source": [
    "Now compare the target SST against our reference (e.g. the climatology we downloaded in the CMEMS_OSTIA_Climatology_Data_Downloader.ipynb notebook)"
   ]
  },
  {
   "cell_type": "code",
   "execution_count": null,
   "metadata": {
    "scrolled": false
   },
   "outputs": [],
   "source": [
    "#load the variables we want from our target SST\n",
    "ds = xr.open_dataset(SST_files[-1])\n",
    "lat = ds.lat.data\n",
    "lon = ds.lon.data\n",
    "time = ds.time.data\n",
    "SST = ds.analysed_sst.data\n",
    "if np.nanmean(SST) > 100:\n",
    "    SST = SST - 273.15\n",
    "ds.close()\n",
    "\n",
    "if subset_image:\n",
    "    ii = np.where((lon >= subset_extents[0]) & (lon <= subset_extents[1]))[0]\n",
    "    jj = np.where((lat >= subset_extents[2]) & (lat <= subset_extents[3]))[0]\n",
    "    SST = SST[:,jj[0]:jj[-1],ii[0]:ii[-1]]\n",
    "    lon = lon[ii]\n",
    "    lat = lat[jj]\n",
    "    \n",
    "SST_area_average = np.nanmin(np.nanmin(SST,axis=1),axis=1)\n",
    "\n",
    "# set up a dummy file\n",
    "clim_SST = np.zeros(np.shape(SST))\n",
    "\n",
    "# now we get the average data\n",
    "for SST_file in SST_files:\n",
    "    print(SST_file)\n",
    "    ds = xr.open_dataset(SST_file)\n",
    "    iter_SST = ds.analysed_sst.data\n",
    "    ds.close()\n",
    "    \n",
    "    if np.nanmean(iter_SST) > 100:\n",
    "        iter_SST = iter_SST - 273.15\n",
    "    \n",
    "    if subset_image:\n",
    "        iter_SST = iter_SST[:,jj[0]:jj[-1],ii[0]:ii[-1]]\n",
    "    \n",
    "    if show_plots:\n",
    "        plt.pcolormesh(lon, lat, np.squeeze(np.nanmean(iter_SST, axis=0)), \\\n",
    "                       vmin=np.nanmin(SST), vmax=np.nanmax(SST), cmap=plt.cm.Spectral_r)\n",
    "        plt.colorbar()\n",
    "        plt.show()\n",
    "    clim_SST = clim_SST + iter_SST\n",
    "\n",
    "# rescale\n",
    "clim_SST = clim_SST/len(SST_files)\n",
    "clim_SST_area_average = np.nanmin(np.nanmin(clim_SST,axis=1),axis=1)"
   ]
  },
  {
   "cell_type": "markdown",
   "metadata": {},
   "source": [
    "Plot the spatial anomaly"
   ]
  },
  {
   "cell_type": "code",
   "execution_count": null,
   "metadata": {
    "scrolled": false
   },
   "outputs": [],
   "source": [
    "vmax = np.nanmax(abs(SST - clim_SST))\n",
    "for SST_file in SST_files:\n",
    "    print(SST_file)\n",
    "    ds = xr.open_dataset(SST_file)\n",
    "    iter_SST = ds.analysed_sst.data\n",
    "    ds.close()\n",
    "    \n",
    "    if np.nanmean(iter_SST) > 100:\n",
    "        iter_SST = iter_SST - 273.15\n",
    "    \n",
    "    if subset_image:\n",
    "        iter_SST = iter_SST[:,jj[0]:jj[-1],ii[0]:ii[-1]]    \n",
    "    \n",
    "    plt.pcolormesh(lon, lat, np.squeeze(np.nanmean(iter_SST - clim_SST, axis=0)),vmin=vmax*-1,vmax=vmax,cmap=plt.cm.RdBu_r)\n",
    "    plt.colorbar()\n",
    "    plt.show()"
   ]
  },
  {
   "cell_type": "code",
   "execution_count": null,
   "metadata": {},
   "outputs": [],
   "source": [
    "plt.plot(SST_area_average,'r')\n",
    "plt.plot(clim_SST_area_average,'k--')"
   ]
  },
  {
   "cell_type": "markdown",
   "metadata": {},
   "source": [
    "make climate stripes"
   ]
  },
  {
   "cell_type": "code",
   "execution_count": null,
   "metadata": {},
   "outputs": [],
   "source": [
    "# make matrix\n",
    "stripe_array = np.ones([20,len(SST_files)])*np.nan\n",
    "\n",
    "count = -1\n",
    "for SST_file in SST_files:\n",
    "    count = count + 1\n",
    "    print(SST_file)\n",
    "    ds = xr.open_dataset(SST_file)\n",
    "    iter_SST = ds.analysed_sst.data\n",
    "    ds.close()\n",
    "    \n",
    "    if np.nanmean(iter_SST) > 100:\n",
    "        iter_SST = iter_SST - 273.15\n",
    "    \n",
    "    if subset_image:\n",
    "        iter_SST = iter_SST[:,jj[0]:jj[-1],ii[0]:ii[-1]]\n",
    "    \n",
    "    iter_SST_anom = iter_SST - clim_SST\n",
    "    stripe_array[:, count] = np.nanmean(iter_SST_anom)\n",
    "\n",
    "plt.pcolormesh(stripe_array,vmin=vmax*-1,vmax=vmax,cmap=plt.cm.RdBu_r)\n",
    "plt.colorbar()"
   ]
  }
 ],
 "metadata": {
  "kernelspec": {
   "display_name": "Python 3",
   "language": "python",
   "name": "python3"
  },
  "language_info": {
   "codemirror_mode": {
    "name": "ipython",
    "version": 3
   },
   "file_extension": ".py",
   "mimetype": "text/x-python",
   "name": "python",
   "nbconvert_exporter": "python",
   "pygments_lexer": "ipython3",
   "version": "3.6.7"
  }
 },
 "nbformat": 4,
 "nbformat_minor": 2
}
