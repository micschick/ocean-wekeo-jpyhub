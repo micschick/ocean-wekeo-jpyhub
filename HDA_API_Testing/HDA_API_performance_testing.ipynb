{
 "cells": [
  {
   "cell_type": "markdown",
   "metadata": {},
   "source": [
    "# Harmonised API performance benchmarking"
   ]
  },
  {
   "cell_type": "markdown",
   "metadata": {},
   "source": [
    "Tests for Jupyter Hub performance:\n",
    "    1. Download speed\n",
    "    2. Data allowances\n",
    "    3. Processing capability"
   ]
  },
  {
   "cell_type": "code",
   "execution_count": null,
   "metadata": {},
   "outputs": [],
   "source": [
    "import os\n",
    "import sys\n",
    "import json\n",
    "import time\n",
    "from zipfile import ZipFile\n",
    "sys.path.append(os.path.dirname(os.getcwd()) + '/Hub_Tools/')\n",
    "import harmonised_data_access_api_tools as hapi"
   ]
  },
  {
   "cell_type": "code",
   "execution_count": null,
   "metadata": {},
   "outputs": [],
   "source": [
    "api_key = \"YOUR API KEY\"\n",
    "download_dir_path = \"/home/jovyan/work/products\"\n",
    "JSON_query_dir = os.path.join(os.getcwd(),'JSON_templates')\n",
    "verbose = False"
   ]
  },
  {
   "cell_type": "code",
   "execution_count": null,
   "metadata": {},
   "outputs": [],
   "source": [
    "# example data sets available: codes from here >> https://www.wekeo.eu/dataset-navigator/start\n",
    "dataset_ids = []\n",
    "# ---------------------------- CMEMS test options --------------------------\n",
    "#dataset_ids.append(\"EO:MO:DAT:OCEANCOLOUR_GLO_CHL_L4_REP_OBSERVATIONS_009_093\") # ESA OC-CCI REP\n",
    "# ---------------------------- C3S test options ----------------------------\n",
    "#dataset_ids.append(\"EO:ECMWF:DAT:ERA5_HOURLY_DATA_ON_SINGLE_LEVELS_1979_PRESENT\") # ERA5\n",
    "# ---------------------------- CAMS test options ---------------------------\n",
    "#dataset_ids.append(\"EO:ECMWF:DAT:CAMS_SOLAR_RADIATION_TIMESERIES\") # SOLAR RAD\n",
    "# ----------------- EUMETSAT COPERNICUS MARINE test options ----------------\n",
    "#dataset_ids.append(\"EO:EUM:DAT:SENTINEL-3:OL_1_EFR___\") # OLCI EFR\n",
    "# ------------------------- ESA MARINE options test options ----------------\n",
    "#dataset_ids.append(\"EO:ESA:DAT:SENTINEL-2:MSI1C\")       # MSI L1C\n",
    "dataset_ids.append(\"EO:ESA:DAT:SENTINEL-1:L1_GRD\")      # S1 L1 GRD"
   ]
  },
  {
   "cell_type": "code",
   "execution_count": null,
   "metadata": {},
   "outputs": [],
   "source": [
    "# find query file\n",
    "JSON_query_files = []\n",
    "for dataset_id in dataset_ids:\n",
    "    JSON_query_file = os.path.join(JSON_query_dir,'Download_benchmarking',dataset_id.replace(':','_')+\".json\")\n",
    "    if not os.path.exists(JSON_query_file):\n",
    "        print('Query file ' + JSON_query_file + ' does not exist')\n",
    "    else:\n",
    "        print('Found JSON query file for '+dataset_id)\n",
    "    JSON_query_files.append(JSON_query_file)"
   ]
  },
  {
   "cell_type": "code",
   "execution_count": null,
   "metadata": {
    "scrolled": false
   },
   "outputs": [],
   "source": [
    "#DOWNLOAD TEST\n",
    "for ii in range(5):\n",
    "    for dataset_id,JSON_query_file in zip(dataset_ids, JSON_query_files):\n",
    "\n",
    "        print(dataset_id)\n",
    "\n",
    "        HAPI_dict = hapi.init(dataset_id, api_key, download_dir_path, verbose=verbose)\n",
    "        HAPI_dict = hapi.get_access_token(HAPI_dict)\n",
    "        HAPI_dict = hapi.accept_TandC(HAPI_dict)\n",
    "\n",
    "        # load the query\n",
    "        with open(JSON_query_file, 'r') as f:\n",
    "            query = json.load(f)\n",
    "\n",
    "        # launch job\n",
    "        HAPI_dict = hapi.launch_query(HAPI_dict, query)\n",
    "\n",
    "        # wait for jobs to complete\n",
    "        hapi.check_job_status(HAPI_dict)\n",
    "\n",
    "        # check results\n",
    "        HAPI_dict = hapi.get_results_list(HAPI_dict)\n",
    "        HAPI_dict = hapi.get_download_links(HAPI_dict)\n",
    "\n",
    "        t0 = time.time()\n",
    "        # download data\n",
    "        HAPI_dict = hapi.download_data(HAPI_dict, skip_existing=False)\n",
    "        \n",
    "        # flush benchmark timing to stdout print\n",
    "        print(' ')\n",
    "        print('--------------------------------')\n",
    "        print('Elapsed time: ' +str(time.time() - t0))\n",
    "        print('--------------------------------')\n",
    "        print('\\r')\n",
    "        "
   ]
  }
 ],
 "metadata": {
  "kernelspec": {
   "display_name": "Python 3",
   "language": "python",
   "name": "python3"
  },
  "language_info": {
   "codemirror_mode": {
    "name": "ipython",
    "version": 3
   },
   "file_extension": ".py",
   "mimetype": "text/x-python",
   "name": "python",
   "nbconvert_exporter": "python",
   "pygments_lexer": "ipython3",
   "version": "3.6.7"
  }
 },
 "nbformat": 4,
 "nbformat_minor": 2
}
