{
 "cells": [
  {
   "cell_type": "markdown",
   "metadata": {
    "extensions": {
     "jupyter_dashboards": {
      "version": 1,
      "views": {
       "grid_default": {},
       "report_default": {}
      }
     }
    }
   },
   "source": [
    "# RGB channel image maker"
   ]
  },
  {
   "cell_type": "markdown",
   "metadata": {
    "extensions": {
     "jupyter_dashboards": {
      "version": 1,
      "views": {
       "grid_default": {},
       "report_default": {}
      }
     }
    }
   },
   "source": [
    "Code that allows you to create manipulate image RGB channels and see how they affect your plot, on-the-fly."
   ]
  },
  {
   "cell_type": "code",
   "execution_count": null,
   "metadata": {
    "extensions": {
     "jupyter_dashboards": {
      "version": 1,
      "views": {
       "grid_default": {},
       "report_default": {}
      }
     }
    }
   },
   "outputs": [],
   "source": [
    "import EQ_tools as eq\n",
    "from ipywidgets import interactive, VBox, Layout, widgets, fixed\n",
    "import matplotlib.pyplot as plt\n",
    "import numpy as np\n",
    "from scipy import interpolate\n",
    "import os\n",
    "import xarray as xr\n",
    "import matplotlib\n",
    "\n",
    "# specific tools (which can be found here ../Hub_tools/)\n",
    "sys.path.append(os.path.dirname(os.getcwd()) + '/Hub_Tools/')\n",
    "import image_tools as img"
   ]
  },
  {
   "cell_type": "code",
   "execution_count": null,
   "metadata": {},
   "outputs": [],
   "source": [
    "# image reduction settings: resample the image every grid_factor points\n",
    "reduce_image = False\n",
    "grid_factor = 5\n",
    "\n",
    "# subset image: cut a relevant section out of an image. subset_extents [lon1,lon2,lat1,lat2] describes the section.\n",
    "subset_image = True\n",
    "subset_extents = [17.0, 22.0, 57.0, 60.0]\n",
    "\n",
    "# image truncation settings\n",
    "truncate_image = True\n",
    "min_percentile = 5\n",
    "max_percentile = 95\n",
    "\n",
    "# image normalisation settings\n",
    "channel_contrast = [1.0, 1.0, 1.0] # r,g,b\n",
    "channel_brightness = 1.0\n",
    "\n",
    "# image histogram settings\n",
    "histogram_image = True\n",
    "histogram_channels = 512"
   ]
  },
  {
   "cell_type": "code",
   "execution_count": null,
   "metadata": {
    "extensions": {
     "jupyter_dashboards": {
      "version": 1,
      "views": {
       "grid_default": {},
       "report_default": {}
      }
     }
    }
   },
   "outputs": [],
   "source": [
    "vardir = '/home/jovyan/work/products/S3A_OL_1_EFR____20190809T092510_20190809T092810_20190810T145535_0179_048_036_1980_MAR_O_NT_002.SEN3'\n",
    "# read lat/lon\n",
    "ds1 = xr.open_dataset(os.path.join(vardir, 'geo_coordinates.nc'))\n",
    "raster_lat = ds1.latitude.data\n",
    "raster_lon = ds1.longitude.data\n",
    "ds1.close()\n",
    "\n",
    "# open data\n",
    "num_channels = 11\n",
    "\n",
    "if 'EFR' in unzipped_file:\n",
    "    radiometry_type = 'Oa%s_radiance'\n",
    "else:\n",
    "    radiometry_type = 'Oa%s_reflectance'\n",
    "\n",
    "for rad_channel_number in range(1, num_channels+1):\n",
    "    rad_channel = radiometry_type % (str(rad_channel_number).zfill(2))\n",
    "    rad_file = os.path.join(unzipped_file, rad_channel + '.nc') \n",
    "    rad_fid = xr.open_dataset(rad_file)\n",
    "    exec(\"Ch%s = rad_fid.%s.data\" % (str(rad_channel_number).zfill(2),rad_channel))\n",
    "    rad_fid.close()\n",
    "\n",
    "if 'EFR' in unzipped_file:\n",
    "    red = np.log10(1.0 + 0.01 * Ch01 + 0.09 * Ch02 + 0.35 * Ch03 + 0.04 * Ch04 + 0.01 * Ch05 + 0.59 * Ch06 + 0.85 * Ch07 + 0.12 * Ch08 + 0.07 * Ch09 + 0.04 * Ch10)\n",
    "    green = np.log10(1.0 + 0.26 * Ch03 + 0.21 * Ch04 + 0.50 * Ch05 + Ch06 + 0.38 * Ch07 + 0.04 * Ch08 + 0.03 * Ch09 + 0.02 * Ch10)\n",
    "    blue = np.log10(1.0 + 0.07 * Ch01 + 0.28 * Ch02 + 1.77 * Ch03 + 0.47 * Ch04 + 0.16 * Ch05)"
   ]
  },
  {
   "cell_type": "code",
   "execution_count": null,
   "metadata": {
    "extensions": {
     "jupyter_dashboards": {
      "version": 1,
      "views": {
       "grid_default": {},
       "report_default": {}
      }
     }
    },
    "scrolled": false
   },
   "outputs": [],
   "source": [
    "%matplotlib inline\n",
    "\n",
    "nchan = len(channel_red)\n",
    "print('nChannels: '+str(nchan))\n",
    "\n",
    "# build the widgets\n",
    "red_widgets, green_widgets, blue_widgets = eq.make_widgets(channel_red, channel_green, channel_blue)\n",
    "\n",
    "# build the plot command\n",
    "runCMD = eq.build_plot_command(vlimits,\\\n",
    "                               red_widgets, green_widgets, blue_widgets)\n",
    "# run the plot command\n",
    "exec(runCMD)\n",
    "box_layout = Layout(display='flex', flex_flow='row', justify_content='space-between', align_items='center')\n",
    "\n",
    "# display the plot\n",
    "for ii in range(0, nchan):\n",
    "    display(VBox([iplot.children[ii], iplot.children[ii+nchan],iplot.children[ii+nchan*2]],\\\n",
    "                  layout=box_layout))\n",
    "display(iplot.children[-1])"
   ]
  },
  {
   "cell_type": "code",
   "execution_count": null,
   "metadata": {
    "extensions": {
     "jupyter_dashboards": {
      "version": 1,
      "views": {
       "grid_default": {},
       "report_default": {}
      }
     }
    }
   },
   "outputs": [],
   "source": [
    "# interpolate colour map onto required range / steps\n",
    "I_am_done = False\n",
    "\n",
    "if I_am_done:\n",
    "    reds = interactive_plot.result[2]\n",
    "    greens = interactive_plot.result[3]\n",
    "    blues = interactive_plot.result[4]\n",
    "    tscale_orig = np.linspace(vmin, vmax, len(reds))\n",
    "    tscale_new = np.linspace(vmin, vmax, vsteps)\n",
    "\n",
    "    interp_redf = interpolate.interp1d(tscale_orig, reds)\n",
    "    interp_greenf = interpolate.interp1d(tscale_orig, greens)\n",
    "    interp_bluef = interpolate.interp1d(tscale_orig, blues)\n",
    "\n",
    "    interp_red = np.array(interp_redf(tscale_new)*255.).astype(int)\n",
    "    interp_green = np.array(interp_greenf(tscale_new)*255.).astype(int)\n",
    "    interp_blue = np.array(interp_bluef(tscale_new)*255.).astype(int)"
   ]
  },
  {
   "cell_type": "code",
   "execution_count": null,
   "metadata": {
    "extensions": {
     "jupyter_dashboards": {
      "version": 1,
      "views": {
       "grid_default": {},
       "report_default": {}
      }
     }
    }
   },
   "outputs": [],
   "source": [
    "if I_am_done:\n",
    "    # write to file\n",
    "    my_file = 'Test_colbar.grass'\n",
    "    if os.path.exists(my_file):\n",
    "        os.remove(my_file)\n",
    "\n",
    "    with open(my_file, 'w') as the_file:\n",
    "        for ii in range(0,len(interp_red)):\n",
    "            the_file.write(str(tscale_new[ii]) + ' ' + \\\n",
    "                           str(interp_red[ii]) + ' ' + \\\n",
    "                           str(interp_green[ii]) + ' ' + \\\n",
    "                           str(interp_blue[ii]))\n",
    "            if ii != len(interp_red)-1:\n",
    "                the_file.write('\\n')"
   ]
  }
 ],
 "metadata": {
  "extensions": {
   "jupyter_dashboards": {
    "activeView": "grid_default",
    "version": 1,
    "views": {
     "grid_default": {
      "cellMargin": 10,
      "defaultCellHeight": 20,
      "maxColumns": 12,
      "name": "grid",
      "type": "grid"
     },
     "report_default": {
      "name": "report",
      "type": "report"
     }
    }
   }
  },
  "kernelspec": {
   "display_name": "Python 3",
   "language": "python",
   "name": "python3"
  },
  "language_info": {
   "codemirror_mode": {
    "name": "ipython",
    "version": 3
   },
   "file_extension": ".py",
   "mimetype": "text/x-python",
   "name": "python",
   "nbconvert_exporter": "python",
   "pygments_lexer": "ipython3",
   "version": "3.6.7"
  }
 },
 "nbformat": 4,
 "nbformat_minor": 2
}
